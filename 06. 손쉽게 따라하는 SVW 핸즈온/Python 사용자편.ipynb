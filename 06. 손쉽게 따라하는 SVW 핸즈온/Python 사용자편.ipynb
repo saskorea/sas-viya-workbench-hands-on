{
 "cells": [
  {
   "cell_type": "markdown",
   "metadata": {},
   "source": [
    "---\n",
    "## <center> **손쉽게 따라하는 SAS® Viya® Workbench - Python 사용자편** </center>\n",
    "---"
   ]
  },
  {
   "cell_type": "markdown",
   "metadata": {},
   "source": [
    "### **0. Packages 설치**"
   ]
  },
  {
   "cell_type": "code",
   "execution_count": 1,
   "metadata": {},
   "outputs": [
    {
     "name": "stdout",
     "output_type": "stream",
     "text": [
      "Defaulting to user installation because normal site-packages is not writeable\n",
      "Requirement already satisfied: packages in /workspaces/myfolder/.user-python-packages/lib/python3.11/site-packages (0.1.1)\n",
      "Requirement already satisfied: saspy in /workspaces/myfolder/.user-python-packages/lib/python3.11/site-packages (5.101.1)\n",
      "Requirement already satisfied: cached_property<2.0.0,>=1.5.1 in /workspaces/myfolder/.user-python-packages/lib/python3.11/site-packages (from packages) (1.5.2)\n",
      "Requirement already satisfied: click<8.0,>=7.0 in /workspaces/myfolder/.user-python-packages/lib/python3.11/site-packages (from packages) (7.1.2)\n",
      "Requirement already satisfied: lxml<5.0.0,>=4.4.2 in /workspaces/myfolder/.user-python-packages/lib/python3.11/site-packages (from packages) (4.9.4)\n",
      "Requirement already satisfied: pymongo<4.0.0,>=3.10.0 in /workspaces/myfolder/.user-python-packages/lib/python3.11/site-packages (from packages) (3.13.0)\n",
      "Requirement already satisfied: redis<4.0.0,>=3.3.11 in /workspaces/myfolder/.user-python-packages/lib/python3.11/site-packages (from packages) (3.5.3)\n",
      "Requirement already satisfied: requests<3.0.0,>=2.22.0 in /usr/local/lib/python3.11/site-packages (from packages) (2.31.0)\n",
      "Requirement already satisfied: requests-cache<0.6.0,>=0.5.2 in /workspaces/myfolder/.user-python-packages/lib/python3.11/site-packages (from packages) (0.5.2)\n",
      "Requirement already satisfied: tqdm<5.0.0,>=4.40.2 in /workspaces/myfolder/.user-python-packages/lib/python3.11/site-packages (from packages) (4.67.1)\n",
      "Requirement already satisfied: charset-normalizer<4,>=2 in /usr/local/lib64/python3.11/site-packages (from requests<3.0.0,>=2.22.0->packages) (3.3.2)\n",
      "Requirement already satisfied: idna<4,>=2.5 in /usr/local/lib/python3.11/site-packages (from requests<3.0.0,>=2.22.0->packages) (3.6)\n",
      "Requirement already satisfied: urllib3<3,>=1.21.1 in /usr/local/lib/python3.11/site-packages (from requests<3.0.0,>=2.22.0->packages) (2.2.1)\n",
      "Requirement already satisfied: certifi>=2017.4.17 in /usr/local/lib/python3.11/site-packages (from requests<3.0.0,>=2.22.0->packages) (2024.2.2)\n"
     ]
    }
   ],
   "source": [
    "!pip install packages saspy\n",
    "import saspy\n",
    "import numpy as np\n",
    "import pandas as pd\n",
    "from sasviya.ml.linear_model import LogisticRegression\n",
    "from sasviya.ml.svm import SVC\n",
    "from sasviya.ml.tree import DecisionTreeClassifier, ForestClassifier, GradientBoostingClassifier\n",
    "import matplotlib.pyplot as plt\n",
    "from sklearn.metrics import accuracy_score, precision_score, recall_score, f1_score, roc_curve, roc_auc_score, auc"
   ]
  },
  {
   "cell_type": "markdown",
   "metadata": {},
   "source": [
    "### **1. SAS 연결 및 Library 할당**"
   ]
  },
  {
   "cell_type": "code",
   "execution_count": 12,
   "metadata": {},
   "outputs": [
    {
     "name": "stdout",
     "output_type": "stream",
     "text": [
      "Using SAS Config named: default\n",
      "SAS server started using Context 0001 with SESSION_ID=0001-ses0008\n",
      "12   libname WRKLIB    '/workspaces/myfolder/sas-viya-workbench-hands-on/02. SAS 데이터'  ;\n",
      "NOTE: Libref WRKLIB was successfully assigned as follows: \n",
      "      Engine:        V9 \n",
      "      Physical Name: /workspaces/myfolder/sas-viya-workbench-hands-on/02. SAS 데이터\n",
      "\n"
     ]
    }
   ],
   "source": [
    "sas = saspy.SASsession()\n",
    "sas.saslib('WRKLIB', path='/workspaces/myfolder/sas-viya-workbench-hands-on/02. SAS 데이터')"
   ]
  },
  {
   "cell_type": "markdown",
   "metadata": {},
   "source": [
    "### **2. 데이터 로드**"
   ]
  },
  {
   "cell_type": "code",
   "execution_count": 11,
   "metadata": {},
   "outputs": [
    {
     "data": {
      "text/html": [
       "<div>\n",
       "<style scoped>\n",
       "    .dataframe tbody tr th:only-of-type {\n",
       "        vertical-align: middle;\n",
       "    }\n",
       "\n",
       "    .dataframe tbody tr th {\n",
       "        vertical-align: top;\n",
       "    }\n",
       "\n",
       "    .dataframe thead th {\n",
       "        text-align: right;\n",
       "    }\n",
       "</style>\n",
       "<table border=\"1\" class=\"dataframe\">\n",
       "  <thead>\n",
       "    <tr style=\"text-align: right;\">\n",
       "      <th></th>\n",
       "      <th>CALLFAIL</th>\n",
       "      <th>COMPLAINS</th>\n",
       "      <th>SUBLENGTH</th>\n",
       "      <th>CHARGEAMT</th>\n",
       "      <th>SECOFUSE</th>\n",
       "      <th>FREQOFUSE</th>\n",
       "      <th>FREQSMS</th>\n",
       "      <th>DISTCALLNUM</th>\n",
       "      <th>AGEGROUP</th>\n",
       "      <th>TARIFFPLAN</th>\n",
       "      <th>STATUS</th>\n",
       "      <th>AGE</th>\n",
       "      <th>CUSTVALUE</th>\n",
       "      <th>CHURN</th>\n",
       "      <th>_PARTITION_</th>\n",
       "    </tr>\n",
       "  </thead>\n",
       "  <tbody>\n",
       "    <tr>\n",
       "      <th>0</th>\n",
       "      <td>8.0</td>\n",
       "      <td>0.0</td>\n",
       "      <td>38.0</td>\n",
       "      <td>0.0</td>\n",
       "      <td>4370.0</td>\n",
       "      <td>71.0</td>\n",
       "      <td>5.0</td>\n",
       "      <td>17.0</td>\n",
       "      <td>3.0</td>\n",
       "      <td>1.0</td>\n",
       "      <td>1.0</td>\n",
       "      <td>30.0</td>\n",
       "      <td>197.640</td>\n",
       "      <td>0.0</td>\n",
       "      <td>2.0</td>\n",
       "    </tr>\n",
       "    <tr>\n",
       "      <th>1</th>\n",
       "      <td>0.0</td>\n",
       "      <td>0.0</td>\n",
       "      <td>39.0</td>\n",
       "      <td>0.0</td>\n",
       "      <td>318.0</td>\n",
       "      <td>5.0</td>\n",
       "      <td>7.0</td>\n",
       "      <td>4.0</td>\n",
       "      <td>2.0</td>\n",
       "      <td>1.0</td>\n",
       "      <td>2.0</td>\n",
       "      <td>25.0</td>\n",
       "      <td>46.035</td>\n",
       "      <td>0.0</td>\n",
       "      <td>1.0</td>\n",
       "    </tr>\n",
       "    <tr>\n",
       "      <th>2</th>\n",
       "      <td>10.0</td>\n",
       "      <td>0.0</td>\n",
       "      <td>37.0</td>\n",
       "      <td>0.0</td>\n",
       "      <td>2453.0</td>\n",
       "      <td>60.0</td>\n",
       "      <td>359.0</td>\n",
       "      <td>24.0</td>\n",
       "      <td>3.0</td>\n",
       "      <td>1.0</td>\n",
       "      <td>1.0</td>\n",
       "      <td>30.0</td>\n",
       "      <td>1536.520</td>\n",
       "      <td>0.0</td>\n",
       "      <td>0.0</td>\n",
       "    </tr>\n",
       "    <tr>\n",
       "      <th>3</th>\n",
       "      <td>10.0</td>\n",
       "      <td>0.0</td>\n",
       "      <td>38.0</td>\n",
       "      <td>0.0</td>\n",
       "      <td>4198.0</td>\n",
       "      <td>66.0</td>\n",
       "      <td>1.0</td>\n",
       "      <td>35.0</td>\n",
       "      <td>1.0</td>\n",
       "      <td>1.0</td>\n",
       "      <td>1.0</td>\n",
       "      <td>15.0</td>\n",
       "      <td>240.020</td>\n",
       "      <td>0.0</td>\n",
       "      <td>1.0</td>\n",
       "    </tr>\n",
       "    <tr>\n",
       "      <th>4</th>\n",
       "      <td>3.0</td>\n",
       "      <td>0.0</td>\n",
       "      <td>38.0</td>\n",
       "      <td>0.0</td>\n",
       "      <td>2393.0</td>\n",
       "      <td>58.0</td>\n",
       "      <td>2.0</td>\n",
       "      <td>33.0</td>\n",
       "      <td>1.0</td>\n",
       "      <td>1.0</td>\n",
       "      <td>1.0</td>\n",
       "      <td>15.0</td>\n",
       "      <td>145.805</td>\n",
       "      <td>0.0</td>\n",
       "      <td>2.0</td>\n",
       "    </tr>\n",
       "    <tr>\n",
       "      <th>5</th>\n",
       "      <td>11.0</td>\n",
       "      <td>0.0</td>\n",
       "      <td>38.0</td>\n",
       "      <td>1.0</td>\n",
       "      <td>3775.0</td>\n",
       "      <td>82.0</td>\n",
       "      <td>32.0</td>\n",
       "      <td>28.0</td>\n",
       "      <td>3.0</td>\n",
       "      <td>1.0</td>\n",
       "      <td>1.0</td>\n",
       "      <td>30.0</td>\n",
       "      <td>282.280</td>\n",
       "      <td>0.0</td>\n",
       "      <td>0.0</td>\n",
       "    </tr>\n",
       "    <tr>\n",
       "      <th>6</th>\n",
       "      <td>4.0</td>\n",
       "      <td>0.0</td>\n",
       "      <td>38.0</td>\n",
       "      <td>0.0</td>\n",
       "      <td>2360.0</td>\n",
       "      <td>39.0</td>\n",
       "      <td>285.0</td>\n",
       "      <td>18.0</td>\n",
       "      <td>3.0</td>\n",
       "      <td>1.0</td>\n",
       "      <td>1.0</td>\n",
       "      <td>30.0</td>\n",
       "      <td>1235.960</td>\n",
       "      <td>0.0</td>\n",
       "      <td>1.0</td>\n",
       "    </tr>\n",
       "    <tr>\n",
       "      <th>7</th>\n",
       "      <td>13.0</td>\n",
       "      <td>0.0</td>\n",
       "      <td>37.0</td>\n",
       "      <td>2.0</td>\n",
       "      <td>9115.0</td>\n",
       "      <td>121.0</td>\n",
       "      <td>144.0</td>\n",
       "      <td>43.0</td>\n",
       "      <td>3.0</td>\n",
       "      <td>1.0</td>\n",
       "      <td>1.0</td>\n",
       "      <td>30.0</td>\n",
       "      <td>945.440</td>\n",
       "      <td>0.0</td>\n",
       "      <td>2.0</td>\n",
       "    </tr>\n",
       "    <tr>\n",
       "      <th>8</th>\n",
       "      <td>7.0</td>\n",
       "      <td>0.0</td>\n",
       "      <td>38.0</td>\n",
       "      <td>0.0</td>\n",
       "      <td>13773.0</td>\n",
       "      <td>169.0</td>\n",
       "      <td>0.0</td>\n",
       "      <td>44.0</td>\n",
       "      <td>3.0</td>\n",
       "      <td>1.0</td>\n",
       "      <td>1.0</td>\n",
       "      <td>30.0</td>\n",
       "      <td>557.680</td>\n",
       "      <td>0.0</td>\n",
       "      <td>2.0</td>\n",
       "    </tr>\n",
       "    <tr>\n",
       "      <th>9</th>\n",
       "      <td>7.0</td>\n",
       "      <td>0.0</td>\n",
       "      <td>38.0</td>\n",
       "      <td>1.0</td>\n",
       "      <td>4515.0</td>\n",
       "      <td>83.0</td>\n",
       "      <td>2.0</td>\n",
       "      <td>25.0</td>\n",
       "      <td>3.0</td>\n",
       "      <td>1.0</td>\n",
       "      <td>1.0</td>\n",
       "      <td>30.0</td>\n",
       "      <td>191.920</td>\n",
       "      <td>0.0</td>\n",
       "      <td>1.0</td>\n",
       "    </tr>\n",
       "  </tbody>\n",
       "</table>\n",
       "</div>"
      ],
      "text/plain": [
       "   CALLFAIL  COMPLAINS  SUBLENGTH  CHARGEAMT  SECOFUSE  FREQOFUSE  FREQSMS  \\\n",
       "0       8.0        0.0       38.0        0.0    4370.0       71.0      5.0   \n",
       "1       0.0        0.0       39.0        0.0     318.0        5.0      7.0   \n",
       "2      10.0        0.0       37.0        0.0    2453.0       60.0    359.0   \n",
       "3      10.0        0.0       38.0        0.0    4198.0       66.0      1.0   \n",
       "4       3.0        0.0       38.0        0.0    2393.0       58.0      2.0   \n",
       "5      11.0        0.0       38.0        1.0    3775.0       82.0     32.0   \n",
       "6       4.0        0.0       38.0        0.0    2360.0       39.0    285.0   \n",
       "7      13.0        0.0       37.0        2.0    9115.0      121.0    144.0   \n",
       "8       7.0        0.0       38.0        0.0   13773.0      169.0      0.0   \n",
       "9       7.0        0.0       38.0        1.0    4515.0       83.0      2.0   \n",
       "\n",
       "   DISTCALLNUM  AGEGROUP  TARIFFPLAN  STATUS   AGE  CUSTVALUE  CHURN  \\\n",
       "0         17.0       3.0         1.0     1.0  30.0    197.640    0.0   \n",
       "1          4.0       2.0         1.0     2.0  25.0     46.035    0.0   \n",
       "2         24.0       3.0         1.0     1.0  30.0   1536.520    0.0   \n",
       "3         35.0       1.0         1.0     1.0  15.0    240.020    0.0   \n",
       "4         33.0       1.0         1.0     1.0  15.0    145.805    0.0   \n",
       "5         28.0       3.0         1.0     1.0  30.0    282.280    0.0   \n",
       "6         18.0       3.0         1.0     1.0  30.0   1235.960    0.0   \n",
       "7         43.0       3.0         1.0     1.0  30.0    945.440    0.0   \n",
       "8         44.0       3.0         1.0     1.0  30.0    557.680    0.0   \n",
       "9         25.0       3.0         1.0     1.0  30.0    191.920    0.0   \n",
       "\n",
       "   _PARTITION_  \n",
       "0          2.0  \n",
       "1          1.0  \n",
       "2          0.0  \n",
       "3          1.0  \n",
       "4          2.0  \n",
       "5          0.0  \n",
       "6          1.0  \n",
       "7          2.0  \n",
       "8          2.0  \n",
       "9          1.0  "
      ]
     },
     "execution_count": 11,
     "metadata": {},
     "output_type": "execute_result"
    }
   ],
   "source": [
    "# 형식 변환 (sas7bdat → Dataframe) 후 로드\n",
    "churn_parted = sas.sasdata('churn_parted', libref='WRKLIB').to_df()\n",
    "churn_parted.columns = churn_parted.columns.str.upper()\n",
    "churn_parted.head(10)"
   ]
  },
  {
   "cell_type": "markdown",
   "metadata": {},
   "source": [
    "### **3. 데이터 분할**  \n",
    "- 학습(Training), 검증(Validation), 평가(Testing) 데이터 분할"
   ]
  },
  {
   "cell_type": "code",
   "execution_count": 10,
   "metadata": {},
   "outputs": [
    {
     "name": "stdout",
     "output_type": "stream",
     "text": [
      "## Table Size (4:3:3)\n",
      " - Train Set: 1,260\n",
      " - Valid Set: 946\n",
      " -  Test Set: 944\n",
      "\n",
      "## Target Rate\n",
      " - Train Set: 0.157\n",
      " - Valid Set: 0.158\n",
      " -  Test Set: 0.157\n"
     ]
    }
   ],
   "source": [
    "churn_train = churn_parted[churn_parted['_PARTITION_'] == 0]\n",
    "churn_valid = churn_parted[churn_parted['_PARTITION_'] == 1]\n",
    "churn_test  = churn_parted[churn_parted['_PARTITION_'] == 2]\n",
    "\n",
    "print(\"## Table Size (4:3:3)\")\n",
    "print(f\" - Train Set: {churn_train.shape[0]:,}\")\n",
    "print(f\" - Valid Set: {churn_valid.shape[0]:,}\")\n",
    "print(f\" -  Test Set: {churn_test.shape[0]:,}\")\n",
    "print()\n",
    "print(\"## Target Rate\")\n",
    "print(f\" - Train Set: {churn_train['CHURN'].mean():.3f}\")\n",
    "print(f\" - Valid Set: {churn_valid['CHURN'].mean():.3f}\")\n",
    "print(f\" -  Test Set: {churn_test['CHURN'].mean():.3f}\")"
   ]
  },
  {
   "cell_type": "markdown",
   "metadata": {},
   "source": [
    "### **4. 변수 분리**  \n",
    "- 독립변수, 종속변수 분할"
   ]
  },
  {
   "cell_type": "code",
   "execution_count": 9,
   "metadata": {},
   "outputs": [],
   "source": [
    "# (1) 전체\n",
    "full_X = churn_train.drop(columns=['CHURN','_PARTITION_'], errors='ignore')\n",
    "full_y = churn_train['CHURN']\n",
    "\n",
    "# (2) 학습용\n",
    "X_train = churn_train.drop(columns=['CHURN','_PARTITION_'], errors='ignore')\n",
    "y_train = churn_train['CHURN']\n",
    "\n",
    "# (3) 평가용\n",
    "X_valid = churn_valid.drop(columns=['CHURN','_PARTITION_'], errors='ignore')\n",
    "y_valid = churn_valid['CHURN']\n",
    "\n",
    "# (4) 검증용\n",
    "X_test = churn_test.drop(columns=['CHURN','_PARTITION_'], errors='ignore')\n",
    "y_test = churn_test['CHURN']"
   ]
  },
  {
   "cell_type": "markdown",
   "metadata": {},
   "source": [
    "### **4. 모형 적합**"
   ]
  },
  {
   "cell_type": "markdown",
   "metadata": {},
   "source": [
    "#### **4.1. 의사결정나무**  \n",
    "**(1) 모형 학습**"
   ]
  },
  {
   "cell_type": "code",
   "execution_count": null,
   "metadata": {},
   "outputs": [],
   "source": [
    "dt = DecisionTreeClassifier(criterion = \"chisquare\",\n",
    "                               max_depth = 10,\n",
    "                               ccp_alpha = 0)\n",
    "\n",
    "dt.fit(X_train, y_train)"
   ]
  },
  {
   "cell_type": "markdown",
   "metadata": {},
   "source": [
    "**(2) 주요 Hyper Parameters**\n",
    "\n",
    "- **criterion**: `{“chaid”, “chisquare”, “entropy|gain”, “igr|gainratio”, “gini”}`  \n",
    "  각 트리 노드의 분할 기준을 지정합니다.\n",
    "\n",
    "- **max_depth**: `int`  \n",
    "  트리의 최대 깊이를 지정합니다.\n",
    "\n",
    "- **min_samples_leaf**: `int`  \n",
    "  각 노드에 최소한으로 있어야 하는 샘플의 수를 지정합니다.\n",
    "\n",
    "- **ccp_alpha**: `float`  \n",
    "  회귀 트리의 최소 비용 복잡성 가지치기에 사용할 값을 지정합니다.\n",
    "\n",
    "- **verbose**: `int`  \n",
    "  피팅된 모델에 대해 출력할 정보의 양을 지정합니다.\n",
    "\n",
    "<small> `DecisionTreeClassifier()` 클래스 사용에 대한 자세한 내용은 [문서](https://go.documentation.sas.com/doc/en/workbenchcdc/v_001/vwbpymlpg/sasviya-ml-tree-decisiontreeclassifier.htm)를 참고하세요.</small> "
   ]
  },
  {
   "cell_type": "markdown",
   "metadata": {},
   "source": [
    "#### **4.2.랜덤포레스트**  \n",
    "**(1) 모형 학습**"
   ]
  },
  {
   "cell_type": "code",
   "execution_count": null,
   "metadata": {},
   "outputs": [],
   "source": [
    "#fit a random forest model\n",
    "forest = ForestClassifier(criterion        = \"chisquare\",\n",
    "                          n_estimators     = 100,\n",
    "                          max_depth        = 7,\n",
    "                          min_samples_leaf = 5,\n",
    "                          bootstrap        = 0.6,\n",
    "                          random_state     = 919)\n",
    "\n",
    "forest.fit(X_train, y_train)"
   ]
  },
  {
   "cell_type": "markdown",
   "metadata": {},
   "source": [
    "**(2) 주요 Hyper Parameters**\n",
    "\n",
    "- **n_estimators**: `int`  \n",
    "  생성할 트리의 수를 지정합니다.\n",
    "\n",
    "- **bootstrap**: `float`  \n",
    "  부트스트랩 샘플에 사용할 데이터의 비율을 지정합니다.\n",
    "\n",
    "- **criterion**: `{“chaid”, “chisquare”, “entropy|gain”, “igr|gainratio”, “gini”}`  \n",
    "  각 트리 노드에서 분할의 품질을 측정하는 기준을 지정합니다.\n",
    "\n",
    "- **max_depth**: `int`  \n",
    "  트리의 최대 깊이를 지정합니다.\n",
    "\n",
    "- **max_features**: `int`  \n",
    "  노드를 분할할 때 고려할 입력 변수의 수를 지정합니다(모델 출력에서 “M”으로 표시). 각 트리마다 입력 변수들 중에서 무작위로 선택된 변수들로 분할을 진행합니다. 기본값은 입력 변수 수의 제곱근입니다.\n",
    "\n",
    "- **min_samples_leaf**: `int`  \n",
    "  각 노드에 최소한으로 있어야 하는 샘플의 수를 지정합니다.\n",
    "\n",
    "- **n_bins**: `int`  \n",
    "  숫자형 변수에 대해 사용할 빈의 수를 지정합니다.\n",
    "\n",
    "- **oob_score**: `bool`  \n",
    "  모델 훈련 시 OOB(Out-of-Bag) 오류를 계산할지 여부를 지정합니다.\n",
    "\n",
    "- **random_state**: `int`  \n",
    "  난수 생성에 사용할 시드를 지정합니다.\n",
    "\n",
    "- **verbose**: `int`  \n",
    "  피팅된 모델에 대해 출력할 정보의 양을 지정합니다.\n",
    "\n",
    "\n",
    "<small> `ForestClassifier()` 클래스 사용에 대한 자세한 내용은 [문서](https://go.documentation.sas.com/doc/en/workbenchcdc/v_001/vwbpymlpg/sasviya-ml-tree-forestclassifier.htm)를 참고하세요.</small> "
   ]
  },
  {
   "cell_type": "markdown",
   "metadata": {},
   "source": [
    "#### **4.3. 로지스틱회귀**  \n",
    "**(1) 모형 학습**"
   ]
  },
  {
   "cell_type": "code",
   "execution_count": null,
   "metadata": {},
   "outputs": [],
   "source": [
    "lr = LogisticRegression(solver   = 'lbfgs',\n",
    "                            tol      = 1e-4,\n",
    "                            max_iter = 1000)\n",
    "\n",
    "lr.fit(X_train, y_train)"
   ]
  },
  {
   "cell_type": "markdown",
   "metadata": {},
   "source": [
    "**(2) 주요 Hyper Parameters**\n",
    "\n",
    "- **tol**: `float`  \n",
    "상대적인 기울기 수렴 기준을 지정합니다.\n",
    "\n",
    "- **fit_intercept**: `bool`  \n",
    "모델에 편향 항을 포함할지 여부를 지정합니다.\n",
    "\n",
    "- **max_iter**: `float`  \n",
    "훈련 반복의 최대 횟수를 지정합니다.\n",
    "\n",
    "- **max_time**: `float`  \n",
    "최대 훈련 시간을 초 단위로 지정합니다.\n",
    "\n",
    "- **solver**: `str`  \n",
    "사용할 최적화 알고리즘을 지정합니다. 유효한 옵션은 다음과 같습니다:\n",
    "  - “congra”: 공액 기울기 방법\n",
    "  - “dbldog”: 더블-도그레그 방법\n",
    "  - “lbfgs”: 제한된 메모리 BFGS 해결기\n",
    "  - “newrap”: 라인 탐색 및 리지법을 사용한 뉴턴-랩슨 방법\n",
    "  - “nmsimp”: 넬더-미드 심플렉스 방법\n",
    "  - “nrridg”: 리지법을 사용한 뉴턴-랩슨 방법\n",
    "  - “quanew | duquanew”: 이중 준-뉴턴 최적화\n",
    "\n",
    "- **selection**: `str`  \n",
    "사용할 변수 선택 방법을 지정합니다. 유효한 옵션은 다음과 같습니다:\n",
    "  - “backward”: 후진 선택법\n",
    "  - “forward”: 전진 선택법\n",
    "  - “lasso”: Lasso 방법\n",
    "  - “stepwise”: 단계적 선택법\n",
    "\n",
    "- **verbose**: `int`  \n",
    "피팅된 모델에 대해 출력할 정보의 양을 지정합니다. 유효한 옵션은 다음과 같습니다:\n",
    "  - 0: 출력 없음\n",
    "  - 1: 반복 이력\n",
    "  - 2: 반복 이력 및 피팅 통계\n",
    "\n",
    "<small> `LogisticRegression()` 클래스 사용에 대한 자세한 내용은 [문서](https://go.documentation.sas.com/doc/en/workbenchcdc/v_001/vwbpymlpg/sasviya-ml-linear_model-logisticregression.htm)를 참고하세요.</small> "
   ]
  },
  {
   "cell_type": "markdown",
   "metadata": {},
   "source": [
    "#### **4.4. 지지벡터머신**  \n",
    "**(1) 모형 학습**"
   ]
  },
  {
   "cell_type": "code",
   "execution_count": 10,
   "metadata": {},
   "outputs": [
    {
     "data": {
      "text/plain": [
       "SVC(kernel=\"rbf\")"
      ]
     },
     "execution_count": 10,
     "metadata": {},
     "output_type": "execute_result"
    }
   ],
   "source": [
    "#fit a support vector machine classifier\n",
    "svm = SVC(C=1.0,\n",
    "          kernel=\"rbf\")\n",
    "\n",
    "svm.fit(X_train, y_train)"
   ]
  },
  {
   "cell_type": "markdown",
   "metadata": {},
   "source": [
    "**(2) 주요 Hyper Parameters**\n",
    "\n",
    "- **max_iter**: `int`  \n",
    "훈련 반복의 최대 횟수를 지정합니다.\n",
    "\n",
    "- **C**: `float`  \n",
    "비용 정규화 파라미터를 지정합니다.\n",
    "\n",
    "- **kernel**: `{“linear”, “poly”, “polynomial”, “rbf”, “sigmoid”}`  \n",
    "사용할 커널의 유형을 지정합니다.\n",
    "\n",
    "- **degree**: `int`  \n",
    "다항식 커널의 차수를 지정합니다. 커널이 “polynomial”이 아닌 경우는 무시됩니다.\n",
    "\n",
    "- **sigma**: `“auto”`, `“scale”` 또는 `float`  \n",
    "RBF 및 Sigmoid 커널의 커널 파라미터를 지정합니다.\n",
    "\n",
    "- **coef0**: `float`  \n",
    "Sigmoid 커널의 두 번째 파라미터를 지정합니다.\n",
    "\n",
    "- **method**: `{“activeset”, “cd”, “ipoint”}` 또는 `None`  \n",
    "모델을 피팅할 때 사용하는 최적화 방법을 지정합니다.\n",
    "  - **Active-Set**: 모든 커널에서 사용 가능하며, RBF 및 Sigmoid 커널과 3차 이상의 다항식 커널의 기본값입니다.\n",
    "  - **Interior Point**: 선형 커널 및 다항식 커널에서 사용 가능하며, 선형 커널과 3차 이하의 다항식 커널의 기본값입니다.\n",
    "  - **Coordinate Descent**: 선형 커널에서만 사용 가능합니다.\n",
    "\n",
    "- **tol**: `float`  \n",
    "조기 중지를 위한 허용 오차 임계값을 지정합니다.\n",
    "\n",
    "- **random_state**: `int`  \n",
    "난수 생성에 사용할 시드를 지정합니다.\n",
    "\n",
    "- **scale**: `bool`  \n",
    "True로 설정하면 훈련 전에 숫자 변수를 스케일링합니다.\n",
    "\n",
    "- **verbose**: `int`  \n",
    "피팅된 모델에 대해 출력할 정보의 양을 지정합니다.\n",
    "\n",
    "<small> `SVC()` 클래스 사용에 대한 자세한 내용은 [문서](https://go.documentation.sas.com/doc/en/workbenchcdc/v_001/vwbpymlpg/sasviya-ml-svm-svc.htm)를 참고하세요.</small> "
   ]
  },
  {
   "cell_type": "markdown",
   "metadata": {},
   "source": [
    "#### **4.5. 그레디언트부스팅**  \n",
    "**(1) 모형 학습**"
   ]
  },
  {
   "cell_type": "code",
   "execution_count": 12,
   "metadata": {},
   "outputs": [
    {
     "data": {
      "text/plain": [
       "GradientBoostingClassifier(subsample=0.8, random_state=919)"
      ]
     },
     "execution_count": 12,
     "metadata": {},
     "output_type": "execute_result"
    }
   ],
   "source": [
    "#fit a tree-based gradient boosting\n",
    "gradboost = GradientBoostingClassifier(n_estimators     = 100,\n",
    "                                       max_depth        = 4,\n",
    "                                       min_samples_leaf = 5,\n",
    "                                       learning_rate    = 0.1,\n",
    "                                       subsample        = 0.8,\n",
    "                                       random_state     = 919)\n",
    "\n",
    "gradboost.fit(X_train, y_train)"
   ]
  },
  {
   "cell_type": "markdown",
   "metadata": {},
   "source": [
    "**(2) 주요 Hyper Parameters**\n",
    "\n",
    "- **n_bins**: `int`  \n",
    "  숫자형 변수에 대해 사용할 빈의 수를 지정합니다. 기본값은 50입니다.\n",
    "\n",
    "- **min_samples_leaf**: `int`  \n",
    "  각 노드에 최소한으로 있어야 하는 샘플의 수를 지정합니다. 기본값은 5입니다.\n",
    "\n",
    "- **n_estimators**: `int`  \n",
    "  생성할 트리의 수를 지정합니다. 기본값은 100입니다.\n",
    "\n",
    "- **max_depth**: `int`  \n",
    "  트리의 최대 깊이를 지정합니다. 기본값은 4입니다.\n",
    "\n",
    "- **max_features**: `float`  \n",
    "  노드를 분할할 때 고려할 입력 변수의 수를 지정합니다. 기본값은 입력 변수 수에 설정됩니다.\n",
    "\n",
    "- **learning_rate**: `float`  \n",
    "  각 트리의 학습률을 지정합니다. 기본값은 0.1입니다.\n",
    "\n",
    "- **subsample**: `float`  \n",
    "  각 트리를 구축하는 데 사용할 데이터의 비율을 지정합니다. 기본값은 0.5입니다.\n",
    "\n",
    "- **l1_penalty**: `float`  \n",
    "  예측에 대한 L1 정규화 값을 지정합니다. 기본값은 0입니다.\n",
    "\n",
    "- **l2_penalty**: `float`  \n",
    "  예측에 대한 L2 정규화 값을 지정합니다. 기본값은 1입니다.\n",
    "\n",
    "- **random_state**: `float`  \n",
    "  난수 생성기의 시드를 지정합니다. 기본값은 컴퓨터 시계를 기반으로 한 난수 스트림입니다. 재현 가능한 난수 시퀀스를 원할 경우 0보다 큰 값을 지정합니다.\n",
    "\n",
    "- **verbose**: `int`  \n",
    "  피팅된 모델에 대해 출력할 정보의 양을 지정합니다.\n",
    "\n",
    "- **calc_feature_importances**: `bool`  \n",
    "  특성 중요도를 계산할지 여부를 지정합니다.\n",
    "\n",
    "- **validation_fraction**: `float`  \n",
    "  훈련 샘플에서 검증에 사용할 비율을 지정합니다. 검증 비율이 0보다 크면 조기 중지 모드가 활성화됩니다.\n",
    "\n",
    "- **n_iter_no_change**: `int`  \n",
    "  조기 중지를 위한 최대 훈련 반복 횟수를 지정합니다. 검증 비율이 지정되지 않으면 무시됩니다.\n",
    "\n",
    "- **tol**: `float`  \n",
    "  이전 반복에 대한 상대적인 변화로 조기 중지를 위한 허용 오차 값을 지정합니다. 검증 비율이 지정되지 않으면 무시됩니다.\n",
    "\n",
    "<small> `GradientBoostingClassifier()` 클래스 사용에 대한 자세한 내용은 [문서](https://go.documentation.sas.com/doc/en/workbenchcdc/v_001/vwbpymlpg/sasviya-ml-tree-gradientboostingclassifier.htm)를 참고하세요.</small> "
   ]
  },
  {
   "cell_type": "markdown",
   "metadata": {},
   "source": [
    "### **5.모형 평가**\n",
    "- 모형 리스트 및 이름 정의"
   ]
  },
  {
   "cell_type": "code",
   "execution_count": 38,
   "metadata": {},
   "outputs": [],
   "source": [
    "# 모델 리스트 및 이름 정의\n",
    "models = [\n",
    "    (\"Decision Tree\", \"dt\", dt),\n",
    "    (\"Random Forest\", \"rf\", forest),\n",
    "    (\"Logistic Regression\", \"lr\", lr),\n",
    "    (\"Support Vector Machine\", \"svm\", svm),\n",
    "    (\"Gradient Boosting\", \"gbm\", gradboost)\n",
    "]"
   ]
  },
  {
   "cell_type": "markdown",
   "metadata": {},
   "source": [
    "#### **5.1. 모형 평가 지표 산출**\n",
    "- 주요 평가 지표\n",
    "  - **Accuracy(정확도)**: 전체 샘플 중 올바르게 분류된 비율\n",
    "  - **Precision(정밀도)**: 해당 클래스에 대해 양성으로 예측된 것 중 실제 양성의 비율\n",
    "  - **Recall(재현율)**: 실제 양성 중 모델이 양성으로 예측한 비율\n",
    "  - **F1-Score(F1 점수)**: 정밀도와 재현율의 조화 평균 (데이터 불균형 시 유용)"
   ]
  },
  {
   "cell_type": "code",
   "execution_count": 21,
   "metadata": {},
   "outputs": [],
   "source": [
    "# 결과 저장용 리스트\n",
    "metrics = []\n",
    "for name, abbr, model in models:\n",
    "    # 학습용, 평가용, 테스트용 데이터 예측\n",
    "    y_train_pred = model.predict(X_train)\n",
    "    y_valid_pred = model.predict(X_valid)\n",
    "    y_test_pred = model.predict(X_test)\n",
    "\n",
    "    # 평가지표 계산\n",
    "    accuracy_train = accuracy_score(y_train, y_train_pred)\n",
    "    accuracy_valid = accuracy_score(y_valid, y_valid_pred)\n",
    "    accuracy_test = accuracy_score(y_test, y_test_pred)\n",
    "\n",
    "    precision_train = precision_score(y_train, y_train_pred, average=\"binary\")\n",
    "    precision_valid = precision_score(ㅁy_valid, y_valid_pred, average=\"binary\")\n",
    "    precision_test = precision_score(y_test, y_test_pred, average=\"binary\")\n",
    "\n",
    "    recall_train = recall_score(y_train, y_train_pred, average=\"binary\")\n",
    "    recall_valid = recall_score(y_valid, y_valid_pred, average=\"binary\")\n",
    "    recall_test = recall_score(y_test, y_test_pred, average=\"binary\")\n",
    "\n",
    "    f1_train = f1_score(y_train, y_train_pred, average=\"binary\")\n",
    "    f1_valid = f1_score(y_valid, y_valid_pred, average=\"binary\")\n",
    "    f1_test = f1_score(y_test, y_test_pred, average=\"binary\")\n",
    "\n",
    "    # 결과 저장\n",
    "    metrics.append({\n",
    "        \"Model\": name,\n",
    "        \"Accuracy_Train\": round(accuracy_train, 3),\n",
    "        \"Accuracy_Valid\": round(accuracy_valid, 3),\n",
    "        \"Accuracy_Test\": round(accuracy_test, 3),\n",
    "        \"Precision_Train\": round(precision_train, 3),\n",
    "        \"Precision_Valid\": round(precision_valid, 3),\n",
    "        \"Precision_Test\": round(precision_test, 3),\n",
    "        \"Recall_Train\": round(recall_train, 3),\n",
    "        \"Recall_Valid\": round(recall_valid, 3),\n",
    "        \"Recall_Test\": round(recall_test, 3),\n",
    "        \"F1_Score_Train\": round(f1_train, 3),\n",
    "        \"F1_Score_Valid\": round(f1_valid, 3),\n",
    "        \"F1_Score_Test\": round(f1_test, 3),\n",
    "    })\n",
    "\n",
    "# 결과 출력\n",
    "metrics_df = pd.DataFrame(metrics)"
   ]
  },
  {
   "cell_type": "code",
   "execution_count": 22,
   "metadata": {},
   "outputs": [
    {
     "data": {
      "text/html": [
       "<div>\n",
       "<style scoped>\n",
       "    .dataframe tbody tr th:only-of-type {\n",
       "        vertical-align: middle;\n",
       "    }\n",
       "\n",
       "    .dataframe tbody tr th {\n",
       "        vertical-align: top;\n",
       "    }\n",
       "\n",
       "    .dataframe thead th {\n",
       "        text-align: right;\n",
       "    }\n",
       "</style>\n",
       "<table border=\"1\" class=\"dataframe\">\n",
       "  <thead>\n",
       "    <tr style=\"text-align: right;\">\n",
       "      <th></th>\n",
       "      <th>Model</th>\n",
       "      <th>Accuracy_Train</th>\n",
       "      <th>Accuracy_Valid</th>\n",
       "      <th>Accuracy_Test</th>\n",
       "      <th>Precision_Train</th>\n",
       "      <th>Precision_Valid</th>\n",
       "      <th>Precision_Test</th>\n",
       "      <th>Recall_Train</th>\n",
       "      <th>Recall_Valid</th>\n",
       "      <th>Recall_Test</th>\n",
       "      <th>F1_Score_Train</th>\n",
       "      <th>F1_Score_Valid</th>\n",
       "      <th>F1_Score_Test</th>\n",
       "    </tr>\n",
       "  </thead>\n",
       "  <tbody>\n",
       "    <tr>\n",
       "      <th>0</th>\n",
       "      <td>Support Vector Machine</td>\n",
       "      <td>0.899</td>\n",
       "      <td>0.893</td>\n",
       "      <td>0.886</td>\n",
       "      <td>0.859</td>\n",
       "      <td>0.843</td>\n",
       "      <td>0.778</td>\n",
       "      <td>0.429</td>\n",
       "      <td>0.396</td>\n",
       "      <td>0.378</td>\n",
       "      <td>0.572</td>\n",
       "      <td>0.539</td>\n",
       "      <td>0.509</td>\n",
       "    </tr>\n",
       "    <tr>\n",
       "      <th>1</th>\n",
       "      <td>Random Forest</td>\n",
       "      <td>0.952</td>\n",
       "      <td>0.936</td>\n",
       "      <td>0.924</td>\n",
       "      <td>0.883</td>\n",
       "      <td>0.900</td>\n",
       "      <td>0.811</td>\n",
       "      <td>0.798</td>\n",
       "      <td>0.664</td>\n",
       "      <td>0.669</td>\n",
       "      <td>0.838</td>\n",
       "      <td>0.764</td>\n",
       "      <td>0.733</td>\n",
       "    </tr>\n",
       "    <tr>\n",
       "      <th>2</th>\n",
       "      <td>Gradient Boosting</td>\n",
       "      <td>0.983</td>\n",
       "      <td>0.951</td>\n",
       "      <td>0.949</td>\n",
       "      <td>0.936</td>\n",
       "      <td>0.893</td>\n",
       "      <td>0.838</td>\n",
       "      <td>0.960</td>\n",
       "      <td>0.785</td>\n",
       "      <td>0.838</td>\n",
       "      <td>0.948</td>\n",
       "      <td>0.836</td>\n",
       "      <td>0.838</td>\n",
       "    </tr>\n",
       "  </tbody>\n",
       "</table>\n",
       "</div>"
      ],
      "text/plain": [
       "                    Model  Accuracy_Train  Accuracy_Valid  Accuracy_Test  \\\n",
       "0  Support Vector Machine           0.899           0.893          0.886   \n",
       "1           Random Forest           0.952           0.936          0.924   \n",
       "2       Gradient Boosting           0.983           0.951          0.949   \n",
       "\n",
       "   Precision_Train  Precision_Valid  Precision_Test  Recall_Train  \\\n",
       "0            0.859            0.843           0.778         0.429   \n",
       "1            0.883            0.900           0.811         0.798   \n",
       "2            0.936            0.893           0.838         0.960   \n",
       "\n",
       "   Recall_Valid  Recall_Test  F1_Score_Train  F1_Score_Valid  F1_Score_Test  \n",
       "0         0.396        0.378           0.572           0.539          0.509  \n",
       "1         0.664        0.669           0.838           0.764          0.733  \n",
       "2         0.785        0.838           0.948           0.836          0.838  "
      ]
     },
     "execution_count": 22,
     "metadata": {},
     "output_type": "execute_result"
    }
   ],
   "source": [
    "metrics_df"
   ]
  },
  {
   "cell_type": "markdown",
   "metadata": {},
   "source": [
    "#### **5.2. ROC 그래프**"
   ]
  },
  {
   "cell_type": "code",
   "execution_count": 23,
   "metadata": {},
   "outputs": [
    {
     "data": {
      "image/png": "[encoded data removed]",
      "text/plain": [
       "<Figure size 1000x800 with 1 Axes>"
      ]
     },
     "metadata": {},
     "output_type": "display_data"
    }
   ],
   "source": [
    "# ROC 커브 그리기\n",
    "plt.figure(figsize=(10, 8))\n",
    "\n",
    "for name, abbr, model in models:\n",
    "    y_train_pred_proba = model.predict_proba(X_train).iloc[:, 1]\n",
    "    y_valid_pred_proba = model.predict_proba(X_valid).iloc[:, 1]\n",
    "    y_test_pred_proba = model.predict_proba(X_test).iloc[:, 1]\n",
    "\n",
    "    # ROC 커브 계산\n",
    "    fpr_train, tpr_train, _ = roc_curve(y_train, y_train_pred_proba)\n",
    "    auc_train = auc(fpr_train, tpr_train)\n",
    "\n",
    "    fpr_valid, tpr_valid, _ = roc_curve(y_valid, y_valid_pred_proba)\n",
    "    auc_valid = auc(fpr_valid, tpr_valid)\n",
    "\n",
    "    fpr_test, tpr_test, _ = roc_curve(y_test, y_test_pred_proba)\n",
    "    auc_test = auc(fpr_test, tpr_test)\n",
    "\n",
    "    # ROC 커브 그리기\n",
    "    plt.plot(fpr_train, tpr_train, label=f\"{name} (Train AUC = {auc_test:.3f})\")\n",
    "    #plt.plot(fpr_valid, tpr_valid, label=f\"{name} (Valid AUC = {auc_valid:.3f})\")\n",
    "    plt.plot(fpr_test, tpr_test, label=f\"{name} (Test AUC = {auc_test:.3f})\")\n",
    "        \n",
    "\n",
    "plt.plot([0, 1], [0, 1], linestyle=\"--\", color=\"gray\", label=\"Random Guessing\")  # 랜덤 분류 기준선\n",
    "plt.xlabel(\"False Positive Rate\")\n",
    "plt.ylabel(\"True Positive Rate\")\n",
    "plt.title(\"ROC Curve Comparison\")\n",
    "plt.legend(loc=\"lower right\")\n",
    "plt.show()"
   ]
  },
  {
   "cell_type": "markdown",
   "metadata": {},
   "source": [
    "#### **5.3. 향상도 그래프**"
   ]
  },
  {
   "cell_type": "code",
   "execution_count": null,
   "metadata": {},
   "outputs": [],
   "source": [
    "# Lift 차트 그리기\n",
    "plt.figure(figsize=(10, 8))\n",
    "\n",
    "for name, abbr, model in models:\n",
    "    y_train_pred_proba = model.predict_proba(X_train).iloc[:, 1]\n",
    "    y_valid_pred_proba = model.predict_proba(X_valid).iloc[:, 1]\n",
    "    y_test_pred_proba = model.predict_proba(X_test).iloc[:, 1]\n",
    "\n",
    "    # 실제 값과 예측된 확률을 기준으로 데이터 정렬\n",
    "    train_data = np.array(list(zip(y_train, y_train_pred_proba)))\n",
    "    train_data = train_data[train_data[:, 1].argsort()[::-1]]  # 확률값 내림차순 정렬\n",
    "    valid_data = np.array(list(zip(y_valid, y_valid_pred_proba)))\n",
    "    valid_data = valid_data[valid_data[:, 1].argsort()[::-1]]  # 확률값 내림차순 정렬\n",
    "    test_data = np.array(list(zip(y_test, y_test_pred_proba)))\n",
    "    test_data = test_data[test_data[:, 1].argsort()[::-1]]  # 확률값 내림차순 정렬\n",
    "\n",
    "    # 누적 리프트 계산\n",
    "    train_lift = np.cumsum(train_data[:, 0]) / np.sum(train_data[:, 0])\n",
    "    valid_lift = np.cumsum(valid_data[:, 0]) / np.sum(valid_data[:, 0])\n",
    "    test_lift = np.cumsum(test_data[:, 0]) / np.sum(test_data[:, 0])\n",
    "\n",
    "    # 리프트 차트 그리기\n",
    "    plt.plot(np.arange(1, len(train_lift) + 1) / len(train_lift), train_lift, label=f\"{name} (Train Lift)\")\n",
    "    plt.plot(np.arange(1, len(valid_lift) + 1) / len(valid_lift), valid_lift, label=f\"{name} (Valid Lift)\")\n",
    "    plt.plot(np.arange(1, len(test_lift) + 1) / len(test_lift), test_lift, label=f\"{name} (Test Lift)\")\n",
    "\n",
    "plt.plot([0, 1], [0, 1], linestyle=\"--\", color=\"gray\", label=\"Random Guessing\")  # 랜덤 분류 기준선\n",
    "plt.xlabel(\"Percent of Samples\")\n",
    "plt.ylabel(\"Lift\")\n",
    "plt.title(\"Lift Chart Comparison\")\n",
    "plt.legend(loc=\"lower right\")\n",
    "plt.show()\n"
   ]
  },
  {
   "cell_type": "markdown",
   "metadata": {},
   "source": [
    "### **6. 스코어링**"
   ]
  },
  {
   "cell_type": "code",
   "execution_count": 44,
   "metadata": {},
   "outputs": [],
   "source": [
    "# 각 모델에 대해 예측값과 확률 계산 후 결과 저장\n",
    "for name, abbr, model in models:\n",
    "    y_pred = pd.DataFrame(model.predict(full_X), columns=['I_CHURN'])\n",
    "    y_pred_proba = pd.DataFrame(model.predict_proba(full_X), columns=['P_CHURN0', 'P_CHURN1'])\n",
    "    result = pd.concat([full_X, full_y, y_pred, y_pred_proba], axis=1)\n",
    "\n",
    "    # 모델 이름을 키로 하고 결과 데이터프레임을 값으로 저장\n",
    "    globals()[f\"churn_{abbr}_score\"] = result"
   ]
  },
  {
   "cell_type": "markdown",
   "metadata": {},
   "source": [
    "### **7. 결과 저장**"
   ]
  },
  {
   "cell_type": "code",
   "execution_count": 49,
   "metadata": {},
   "outputs": [
    {
     "name": "stderr",
     "output_type": "stream",
     "text": [
      "/workspaces/myfolder/.user-python-packages/lib/python3.11/site-packages/saspy/sasiohttp.py:1663: UserWarning: Note that Indexes are not transferred over as columns. Only actual columns are transferred\n",
      "  warnings.warn(\"Note that Indexes are not transferred over as columns. Only actual columns are transferred\")\n",
      "/workspaces/myfolder/.user-python-packages/lib/python3.11/site-packages/saspy/sasiohttp.py:1663: UserWarning: Note that Indexes are not transferred over as columns. Only actual columns are transferred\n",
      "  warnings.warn(\"Note that Indexes are not transferred over as columns. Only actual columns are transferred\")\n",
      "/workspaces/myfolder/.user-python-packages/lib/python3.11/site-packages/saspy/sasiohttp.py:1663: UserWarning: Note that Indexes are not transferred over as columns. Only actual columns are transferred\n",
      "  warnings.warn(\"Note that Indexes are not transferred over as columns. Only actual columns are transferred\")\n"
     ]
    },
    {
     "data": {
      "text/plain": [
       "Libref  = WRKLIB\n",
       "Table   = churn_gbm_score\n",
       "Dsopts  = {}\n",
       "Results = Pandas"
      ]
     },
     "execution_count": 49,
     "metadata": {},
     "output_type": "execute_result"
    }
   ],
   "source": [
    "sas.df2sd(churn_dt_score, table='churn_dt_score', libref='WRKLIB')\n",
    "sas.df2sd(churn_rf_score, table='churn_rf_score', libref='WRKLIB')\n",
    "sas.df2sd(churn_lr_score, table='churn_lr_score', libref='WRKLIB')\n",
    "sas.df2sd(churn_svm_score, table='churn_svm_score', libref='WRKLIB')\n",
    "sas.df2sd(churn_gbm_score, table='churn_gbm_score', libref='WRKLIB')"
   ]
  },
  {
   "cell_type": "markdown",
   "metadata": {},
   "source": [
    "### **8. SAS 연결 종료**"
   ]
  },
  {
   "cell_type": "code",
   "execution_count": 50,
   "metadata": {},
   "outputs": [
    {
     "name": "stdout",
     "output_type": "stream",
     "text": [
      "SAS server terminated for SESSION_ID=0001-ses0006\n"
     ]
    },
    {
     "data": {
      "text/plain": [
       "0"
      ]
     },
     "execution_count": 50,
     "metadata": {},
     "output_type": "execute_result"
    }
   ],
   "source": [
    "sas.endsas()"
   ]
  }
 ],
 "metadata": {
  "kernelspec": {
   "display_name": "Python 3",
   "language": "python",
   "name": "python3"
  },
  "language_info": {
   "codemirror_mode": {
    "name": "ipython",
    "version": 3
   },
   "file_extension": ".py",
   "mimetype": "text/x-python",
   "name": "python",
   "nbconvert_exporter": "python",
   "pygments_lexer": "ipython3",
   "version": "3.11.10"
  }
 },
 "nbformat": 4,
 "nbformat_minor": 2
}
