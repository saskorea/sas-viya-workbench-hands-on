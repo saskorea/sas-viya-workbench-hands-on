{
 "cells": [
  {
   "cell_type": "markdown",
   "metadata": {},
   "source": [
    "## <center> **SAS® Viya® Workbench의 Machine Learning Python API** </center>"
   ]
  },
  {
   "cell_type": "markdown",
   "metadata": {},
   "source": [
    "---\n",
    "### **1. Linear Models**\n",
    "---"
   ]
  },
  {
   "cell_type": "markdown",
   "metadata": {},
   "source": [
    "- **ElasticNet**  : L1 및 L2 정규화가 혼합된 선형 회귀 모델.\n",
    "\n",
    "- **Lasso**  : L1 정규화를 사용하는 선형 회귀 모델.\n",
    "\n",
    "- **LinearRegression**  : 최소자승법(Ordinary Least Squares)을 사용하는 선형 회귀 모델.\n",
    "\n",
    "- **LogisticRegression**  : 로지스틱 회귀 분류기.\n",
    "\n",
    "- **Ridge**  : L2 정규화를 사용하는 선형 회귀 모델."
   ]
  },
  {
   "cell_type": "markdown",
   "metadata": {},
   "source": [
    "---\n",
    "### **2. Support Vector Models**\n",
    "---"
   ]
  },
  {
   "cell_type": "markdown",
   "metadata": {},
   "source": [
    "- **SVC**  : 서포트 벡터 분류(Support Vector Classification) 모델.\n",
    "\n",
    "- **SVR**  : 서포트 벡터 회귀(Support Vector Regression) 모델."
   ]
  },
  {
   "cell_type": "markdown",
   "metadata": {},
   "source": [
    "### SVC - 파라미터\n",
    "\n",
    "- **max_iter**: `int`, 선택 사항  \n",
    "  훈련 반복의 최대 횟수를 지정합니다.\n",
    "\n",
    "- **C**: `float`, 선택 사항  \n",
    "  비용 정규화 파라미터를 지정합니다.\n",
    "\n",
    "- **kernel**: `{“linear”, “poly”, “polynomial”, “rbf”, “sigmoid”}`, 선택 사항  \n",
    "  사용할 커널의 유형을 지정합니다.\n",
    "\n",
    "- **degree**: `int`, 선택 사항  \n",
    "  다항식 커널의 차수를 지정합니다. 커널이 “polynomial”이 아닌 경우는 무시됩니다.\n",
    "\n",
    "- **sigma**: `“auto”`, `“scale”` 또는 `float`, 선택 사항  \n",
    "  RBF 및 Sigmoid 커널의 커널 파라미터를 지정합니다.\n",
    "\n",
    "- **coef0**: `float`, 선택 사항  \n",
    "  Sigmoid 커널의 두 번째 파라미터를 지정합니다.\n",
    "\n",
    "- **method**: `{“activeset”, “cd”, “ipoint”}` 또는 `None`, 선택 사항  \n",
    "  모델을 피팅할 때 사용하는 최적화 방법을 지정합니다.\n",
    "  - **Active-Set**: 모든 커널에서 사용 가능하며, RBF 및 Sigmoid 커널과 3차 이상의 다항식 커널의 기본값입니다.\n",
    "  - **Interior Point**: 선형 커널 및 다항식 커널에서 사용 가능하며, 선형 커널과 3차 이하의 다항식 커널의 기본값입니다.\n",
    "  - **Coordinate Descent**: 선형 커널에서만 사용 가능합니다.\n",
    "\n",
    "- **tol**: `float`, 선택 사항  \n",
    "  조기 중지를 위한 허용 오차 임계값을 지정합니다.\n",
    "\n",
    "- **random_state**: `int`, 선택 사항  \n",
    "  난수 생성에 사용할 시드를 지정합니다.\n",
    "\n",
    "- **scale**: `bool`, 선택 사항  \n",
    "  True로 설정하면 훈련 전에 숫자 변수를 스케일링합니다.\n",
    "\n",
    "- **verbose**: `int`, 선택 사항  \n",
    "  피팅된 모델에 대해 출력할 정보의 양을 지정합니다.\n"
   ]
  },
  {
   "cell_type": "markdown",
   "metadata": {},
   "source": [
    "### SVR - 파라미터 설명\n",
    "\n",
    "- **max_iter**: `int`, 선택 사항  \n",
    "  훈련 반복의 최대 횟수를 지정합니다.\n",
    "\n",
    "- **C**: `float`, 선택 사항  \n",
    "  비용 정규화 파라미터를 지정합니다.\n",
    "\n",
    "- **kernel**: `{“linear”, “poly”, “polynomial”}`, 선택 사항  \n",
    "  사용할 커널의 유형을 지정합니다.\n",
    "\n",
    "- **degree**: `int`, 선택 사항  \n",
    "  다항식 커널의 차수를 지정합니다. 커널이 “polynomial”이 아닌 경우는 무시됩니다.\n",
    "\n",
    "- **tol**: `float`, 선택 사항  \n",
    "  조기 중지를 위한 허용 오차 임계값을 지정합니다.\n",
    "\n",
    "- **epsilon**: `float`, 선택 사항  \n",
    "  epsilon-튜브 거리로, 실제 값과 예측 값의 차이가 이 거리 내에 있는 점들은 훈련 손실에 포함되지 않습니다.\n",
    "\n",
    "- **random_state**: `int`, 선택 사항  \n",
    "  난수 생성에 사용할 시드를 지정합니다.\n",
    "\n",
    "- **scale**: `bool`, 선택 사항  \n",
    "  True로 설정하면 훈련 전에 숫자 변수를 스케일링합니다.\n",
    "\n",
    "- **verbose**: `int`, 선택 사항  \n",
    "  피팅된 모델에 대해 출력할 정보의 양을 지정합니다.\n"
   ]
  },
  {
   "cell_type": "markdown",
   "metadata": {},
   "source": [
    "---\n",
    "### **3. Tree Models**\n",
    "---"
   ]
  },
  {
   "cell_type": "markdown",
   "metadata": {},
   "source": [
    "- **DecisionTreeClassifier** : 의사결정 나무 분류 모델.\n",
    "\n",
    "- **DecisionTreeRegressor** : 의사결정 나무 회귀 모델.\n",
    "\n",
    "- **ForestClassifier**  : 랜덤 포레스트 분류 모델.\n",
    "\n",
    "- **ForestRegressor**  : 랜덤 포레스트 회귀 모델.\n",
    "\n",
    "- **GradientBoostingClassifier**  : 그래디언트 부스팅 분류 모델.\n",
    "\n",
    "- **GradientBoostingRegressor**  : 그래디언트 부스팅 회귀 모델."
   ]
  },
  {
   "cell_type": "markdown",
   "metadata": {},
   "source": [
    "---\n",
    "### **#. Case Study**\n",
    "---"
   ]
  },
  {
   "cell_type": "code",
   "execution_count": 2,
   "metadata": {},
   "outputs": [],
   "source": [
    "import os\n",
    "import pandas as pd\n",
    "import numpy as np"
   ]
  },
  {
   "cell_type": "code",
   "execution_count": 13,
   "metadata": {},
   "outputs": [],
   "source": [
    "churn_df = pd.read_csv( \"/workspaces/workspace/sas-viya-workbench-hands-on/04. Python 핸즈온 코드/churn.csv\")"
   ]
  },
  {
   "cell_type": "code",
   "execution_count": 14,
   "metadata": {},
   "outputs": [
    {
     "data": {
      "text/html": [
       "<div>\n",
       "<style scoped>\n",
       "    .dataframe tbody tr th:only-of-type {\n",
       "        vertical-align: middle;\n",
       "    }\n",
       "\n",
       "    .dataframe tbody tr th {\n",
       "        vertical-align: top;\n",
       "    }\n",
       "\n",
       "    .dataframe thead th {\n",
       "        text-align: right;\n",
       "    }\n",
       "</style>\n",
       "<table border=\"1\" class=\"dataframe\">\n",
       "  <thead>\n",
       "    <tr style=\"text-align: right;\">\n",
       "      <th></th>\n",
       "      <th>Call Failure</th>\n",
       "      <th>Complains</th>\n",
       "      <th>Subscription Length</th>\n",
       "      <th>Charge  Amount</th>\n",
       "      <th>Seconds of Use</th>\n",
       "      <th>Frequency of use</th>\n",
       "      <th>Frequency of SMS</th>\n",
       "      <th>Distinct Called Numbers</th>\n",
       "      <th>Age Group</th>\n",
       "      <th>Tariff Plan</th>\n",
       "      <th>Status</th>\n",
       "      <th>Age</th>\n",
       "      <th>Customer Value</th>\n",
       "      <th>Churn</th>\n",
       "    </tr>\n",
       "  </thead>\n",
       "  <tbody>\n",
       "    <tr>\n",
       "      <th>0</th>\n",
       "      <td>8</td>\n",
       "      <td>0</td>\n",
       "      <td>38</td>\n",
       "      <td>0</td>\n",
       "      <td>4370</td>\n",
       "      <td>71</td>\n",
       "      <td>5</td>\n",
       "      <td>17</td>\n",
       "      <td>3</td>\n",
       "      <td>1</td>\n",
       "      <td>1</td>\n",
       "      <td>30</td>\n",
       "      <td>197.640</td>\n",
       "      <td>0</td>\n",
       "    </tr>\n",
       "    <tr>\n",
       "      <th>1</th>\n",
       "      <td>0</td>\n",
       "      <td>0</td>\n",
       "      <td>39</td>\n",
       "      <td>0</td>\n",
       "      <td>318</td>\n",
       "      <td>5</td>\n",
       "      <td>7</td>\n",
       "      <td>4</td>\n",
       "      <td>2</td>\n",
       "      <td>1</td>\n",
       "      <td>2</td>\n",
       "      <td>25</td>\n",
       "      <td>46.035</td>\n",
       "      <td>0</td>\n",
       "    </tr>\n",
       "    <tr>\n",
       "      <th>2</th>\n",
       "      <td>10</td>\n",
       "      <td>0</td>\n",
       "      <td>37</td>\n",
       "      <td>0</td>\n",
       "      <td>2453</td>\n",
       "      <td>60</td>\n",
       "      <td>359</td>\n",
       "      <td>24</td>\n",
       "      <td>3</td>\n",
       "      <td>1</td>\n",
       "      <td>1</td>\n",
       "      <td>30</td>\n",
       "      <td>1536.520</td>\n",
       "      <td>0</td>\n",
       "    </tr>\n",
       "    <tr>\n",
       "      <th>3</th>\n",
       "      <td>10</td>\n",
       "      <td>0</td>\n",
       "      <td>38</td>\n",
       "      <td>0</td>\n",
       "      <td>4198</td>\n",
       "      <td>66</td>\n",
       "      <td>1</td>\n",
       "      <td>35</td>\n",
       "      <td>1</td>\n",
       "      <td>1</td>\n",
       "      <td>1</td>\n",
       "      <td>15</td>\n",
       "      <td>240.020</td>\n",
       "      <td>0</td>\n",
       "    </tr>\n",
       "    <tr>\n",
       "      <th>4</th>\n",
       "      <td>3</td>\n",
       "      <td>0</td>\n",
       "      <td>38</td>\n",
       "      <td>0</td>\n",
       "      <td>2393</td>\n",
       "      <td>58</td>\n",
       "      <td>2</td>\n",
       "      <td>33</td>\n",
       "      <td>1</td>\n",
       "      <td>1</td>\n",
       "      <td>1</td>\n",
       "      <td>15</td>\n",
       "      <td>145.805</td>\n",
       "      <td>0</td>\n",
       "    </tr>\n",
       "  </tbody>\n",
       "</table>\n",
       "</div>"
      ],
      "text/plain": [
       "   Call Failure  Complains  Subscription Length  Charge  Amount  \\\n",
       "0             8          0                   38               0   \n",
       "1             0          0                   39               0   \n",
       "2            10          0                   37               0   \n",
       "3            10          0                   38               0   \n",
       "4             3          0                   38               0   \n",
       "\n",
       "   Seconds of Use  Frequency of use  Frequency of SMS  \\\n",
       "0            4370                71                 5   \n",
       "1             318                 5                 7   \n",
       "2            2453                60               359   \n",
       "3            4198                66                 1   \n",
       "4            2393                58                 2   \n",
       "\n",
       "   Distinct Called Numbers  Age Group  Tariff Plan  Status  Age  \\\n",
       "0                       17          3            1       1   30   \n",
       "1                        4          2            1       2   25   \n",
       "2                       24          3            1       1   30   \n",
       "3                       35          1            1       1   15   \n",
       "4                       33          1            1       1   15   \n",
       "\n",
       "   Customer Value  Churn  \n",
       "0         197.640      0  \n",
       "1          46.035      0  \n",
       "2        1536.520      0  \n",
       "3         240.020      0  \n",
       "4         145.805      0  "
      ]
     },
     "execution_count": 14,
     "metadata": {},
     "output_type": "execute_result"
    }
   ],
   "source": [
    "churn_df.head(5)"
   ]
  },
  {
   "cell_type": "code",
   "execution_count": 16,
   "metadata": {},
   "outputs": [],
   "source": [
    "X_df = churn_df.drop('Churn', axis=1)\n",
    "y = churn_df['Churn']"
   ]
  },
  {
   "cell_type": "code",
   "execution_count": 17,
   "metadata": {},
   "outputs": [],
   "source": [
    "from sklearn.model_selection import train_test_split\n",
    "X_train, X_test, y_train, y_test = train_test_split(X_df, y, stratify=y, test_size = 0.2, random_state = 10)"
   ]
  },
  {
   "cell_type": "code",
   "execution_count": 18,
   "metadata": {},
   "outputs": [
    {
     "data": {
      "text/plain": [
       "LogisticRegression(tol=0.0001, solver=\"lbfgs\", max_iter=1000)"
      ]
     },
     "execution_count": 18,
     "metadata": {},
     "output_type": "execute_result"
    }
   ],
   "source": [
    "#fit a simple logistic regression model\n",
    "from sasviya.ml.linear_model import LogisticRegression\n",
    "\n",
    "logreg = LogisticRegression(solver   = 'lbfgs',\n",
    "                            tol      = 1e-4,\n",
    "                            max_iter = 1000)\n",
    "\n",
    "logreg.fit(X_train, y_train)"
   ]
  },
  {
   "cell_type": "code",
   "execution_count": 19,
   "metadata": {},
   "outputs": [
    {
     "data": {
      "text/plain": [
       "SVC(kernel=\"rbf\")"
      ]
     },
     "execution_count": 19,
     "metadata": {},
     "output_type": "execute_result"
    }
   ],
   "source": [
    "#fit a support vector machine classifier\n",
    "from sasviya.ml.svm import SVC\n",
    "\n",
    "svm = SVC(C=1.0,\n",
    "          kernel=\"rbf\")\n",
    "\n",
    "svm.fit(X_train, y_train)"
   ]
  },
  {
   "cell_type": "code",
   "execution_count": 20,
   "metadata": {},
   "outputs": [
    {
     "data": {
      "text/plain": [
       "DecisionTreeClassifier(criterion=\"chisquare\")"
      ]
     },
     "execution_count": 20,
     "metadata": {},
     "output_type": "execute_result"
    }
   ],
   "source": [
    "#fit a decision tree model\n",
    "from sasviya.ml.tree import DecisionTreeClassifier\n",
    "\n",
    "dtree = DecisionTreeClassifier(criterion = \"chisquare\",\n",
    "                               max_depth = 10,\n",
    "                               ccp_alpha = 0)\n",
    "\n",
    "dtree.fit(X_train, y_train)"
   ]
  },
  {
   "cell_type": "code",
   "execution_count": 21,
   "metadata": {},
   "outputs": [
    {
     "data": {
      "text/plain": [
       "ForestClassifier(criterion=\"chisquare\", max_depth=7, random_state=919)"
      ]
     },
     "execution_count": 21,
     "metadata": {},
     "output_type": "execute_result"
    }
   ],
   "source": [
    "#fit a random forest model\n",
    "from sasviya.ml.tree import ForestClassifier\n",
    "\n",
    "forest = ForestClassifier(criterion        = \"chisquare\",\n",
    "                          n_estimators     = 100,\n",
    "                          max_depth        = 7,\n",
    "                          min_samples_leaf = 5,\n",
    "                          bootstrap        = 0.6,\n",
    "                          random_state     = 919)\n",
    "\n",
    "forest.fit(X_train, y_train)"
   ]
  },
  {
   "cell_type": "code",
   "execution_count": 22,
   "metadata": {},
   "outputs": [
    {
     "data": {
      "text/plain": [
       "GradientBoostingClassifier(subsample=0.8, random_state=919)"
      ]
     },
     "execution_count": 22,
     "metadata": {},
     "output_type": "execute_result"
    }
   ],
   "source": [
    "#fit a tree-based gradient boosting model\n",
    "from sasviya.ml.tree import GradientBoostingClassifier\n",
    "\n",
    "gradboost = GradientBoostingClassifier(n_estimators     = 100,\n",
    "                                       max_depth        = 4,\n",
    "                                       min_samples_leaf = 5,\n",
    "                                       learning_rate    = 0.1,\n",
    "                                       subsample        = 0.8,\n",
    "                                       random_state     = 919)\n",
    "\n",
    "gradboost.fit(X_train, y_train)"
   ]
  },
  {
   "cell_type": "code",
   "execution_count": 34,
   "metadata": {},
   "outputs": [],
   "source": [
    "# 필요한 라이브러리 가져오기\n",
    "import numpy as np\n",
    "import matplotlib.pyplot as plt\n",
    "from sklearn.metrics import accuracy_score, precision_score, recall_score, f1_score, roc_curve, roc_auc_score, auc\n",
    "\n",
    "# 모델 리스트 및 이름 정의\n",
    "models = [\n",
    "    (\"Logistic Regression\", logreg),\n",
    "    (\"Support Vector Machine\", svm),\n",
    "    (\"Decision Tree\", dtree),\n",
    "    (\"Random Forest\", forest),\n",
    "    (\"Gradient Boosting\", gradboost)\n",
    "]\n",
    "\n",
    "# 결과 저장용 리스트\n",
    "metrics = []\n",
    "roc_curves = []\n",
    "\n",
    "# 모델 평가\n",
    "for name, model in models:\n",
    "    y_pred       = model.predict(X_test)\n",
    "    y_proba      = model.predict_proba(X_test)\n",
    "    y_pred_proba = proba[:, 1]\n",
    "\n",
    "    # 평가지표 계산\n",
    "    accuracy  = accuracy_score(y_test, y_pred)\n",
    "    precision = precision_score(y_test, y_pred, average=\"binary\")\n",
    "    recall    = recall_score(y_test, y_pred, average=\"binary\")\n",
    "    f1        = f1_score(y_test, y_pred, average=\"binary\")\n",
    "    \n",
    "    # ROC-AUC 계산\n",
    "    fpr, tpr, _ = roc_curve(y_test, y_pred_proba)\n",
    "    auc_score   = auc(fpr, tpr)\n",
    "    roc_curves.append((name, fpr, tpr, auc_score))\n",
    "\n",
    "    # 결과 저장\n",
    "    metrics.append({\n",
    "        \"Model\": name,\n",
    "        \"Accuracy\": accuracy,\n",
    "        \"Precision\": precision,\n",
    "        \"Recall\": recall,\n",
    "        \"F1 Score\": f1,\n",
    "        \"AUC\": auc_score\n",
    "    })"
   ]
  },
  {
   "cell_type": "code",
   "execution_count": 35,
   "metadata": {},
   "outputs": [
    {
     "data": {
      "text/html": [
       "<div>\n",
       "<style scoped>\n",
       "    .dataframe tbody tr th:only-of-type {\n",
       "        vertical-align: middle;\n",
       "    }\n",
       "\n",
       "    .dataframe tbody tr th {\n",
       "        vertical-align: top;\n",
       "    }\n",
       "\n",
       "    .dataframe thead th {\n",
       "        text-align: right;\n",
       "    }\n",
       "</style>\n",
       "<table border=\"1\" class=\"dataframe\">\n",
       "  <thead>\n",
       "    <tr style=\"text-align: right;\">\n",
       "      <th></th>\n",
       "      <th>Model</th>\n",
       "      <th>Accuracy</th>\n",
       "      <th>Precision</th>\n",
       "      <th>Recall</th>\n",
       "      <th>F1 Score</th>\n",
       "      <th>AUC</th>\n",
       "    </tr>\n",
       "  </thead>\n",
       "  <tbody>\n",
       "    <tr>\n",
       "      <th>0</th>\n",
       "      <td>Logistic Regression</td>\n",
       "      <td>0.896825</td>\n",
       "      <td>0.826923</td>\n",
       "      <td>0.434343</td>\n",
       "      <td>0.569536</td>\n",
       "      <td>0.987768</td>\n",
       "    </tr>\n",
       "    <tr>\n",
       "      <th>1</th>\n",
       "      <td>Support Vector Machine</td>\n",
       "      <td>0.898413</td>\n",
       "      <td>0.872340</td>\n",
       "      <td>0.414141</td>\n",
       "      <td>0.561644</td>\n",
       "      <td>0.987768</td>\n",
       "    </tr>\n",
       "    <tr>\n",
       "      <th>2</th>\n",
       "      <td>Decision Tree</td>\n",
       "      <td>0.926984</td>\n",
       "      <td>0.784946</td>\n",
       "      <td>0.737374</td>\n",
       "      <td>0.760417</td>\n",
       "      <td>0.987768</td>\n",
       "    </tr>\n",
       "    <tr>\n",
       "      <th>3</th>\n",
       "      <td>Random Forest</td>\n",
       "      <td>0.941270</td>\n",
       "      <td>0.860465</td>\n",
       "      <td>0.747475</td>\n",
       "      <td>0.800000</td>\n",
       "      <td>0.987768</td>\n",
       "    </tr>\n",
       "    <tr>\n",
       "      <th>4</th>\n",
       "      <td>Gradient Boosting</td>\n",
       "      <td>0.952381</td>\n",
       "      <td>0.855670</td>\n",
       "      <td>0.838384</td>\n",
       "      <td>0.846939</td>\n",
       "      <td>0.987768</td>\n",
       "    </tr>\n",
       "  </tbody>\n",
       "</table>\n",
       "</div>"
      ],
      "text/plain": [
       "                    Model  Accuracy  Precision    Recall  F1 Score       AUC\n",
       "0     Logistic Regression  0.896825   0.826923  0.434343  0.569536  0.987768\n",
       "1  Support Vector Machine  0.898413   0.872340  0.414141  0.561644  0.987768\n",
       "2           Decision Tree  0.926984   0.784946  0.737374  0.760417  0.987768\n",
       "3           Random Forest  0.941270   0.860465  0.747475  0.800000  0.987768\n",
       "4       Gradient Boosting  0.952381   0.855670  0.838384  0.846939  0.987768"
      ]
     },
     "execution_count": 35,
     "metadata": {},
     "output_type": "execute_result"
    }
   ],
   "source": [
    "# 결과 출력\n",
    "import pandas as pd\n",
    "metrics_df = pd.DataFrame(metrics)\n",
    "metrics_df"
   ]
  },
  {
   "cell_type": "code",
   "execution_count": 36,
   "metadata": {},
   "outputs": [
    {
     "data": {
      "image/png": "[encoded data removed]",
      "text/plain": [
       "<Figure size 1000x800 with 1 Axes>"
      ]
     },
     "metadata": {},
     "output_type": "display_data"
    }
   ],
   "source": [
    "# ROC 커브 시각화\n",
    "plt.figure(figsize=(10, 8))\n",
    "for name, fpr, tpr, auc_score in roc_curves:\n",
    "    if fpr is not None and tpr is not None:\n",
    "        plt.plot(fpr, tpr, label=f\"{name} (AUC = {auc_score:.2f})\")\n",
    "\n",
    "plt.plot([0, 1], [0, 1], 'k--', label=\"Random Guessing\")\n",
    "plt.xlabel(\"False Positive Rate\")\n",
    "plt.ylabel(\"True Positive Rate\")\n",
    "plt.title(\"ROC Curves\")\n",
    "plt.legend()\n",
    "plt.grid()\n",
    "plt.show()"
   ]
  },
  {
   "cell_type": "code",
   "execution_count": null,
   "metadata": {},
   "outputs": [],
   "source": []
  }
 ],
 "metadata": {
  "kernelspec": {
   "display_name": "Python 3",
   "language": "python",
   "name": "python3"
  },
  "language_info": {
   "codemirror_mode": {
    "name": "ipython",
    "version": 3
   },
   "file_extension": ".py",
   "mimetype": "text/x-python",
   "name": "python",
   "nbconvert_exporter": "python",
   "pygments_lexer": "ipython3",
   "version": "3.11.10"
  }
 },
 "nbformat": 4,
 "nbformat_minor": 2
}
