{
 "cells": [
  {
   "cell_type": "markdown",
   "metadata": {},
   "source": [
    "## <center> **SAS® Viya® Workbench의 Machine Learning Python API** </center>"
   ]
  },
  {
   "cell_type": "markdown",
   "metadata": {},
   "source": [
    "---\n",
    "### **1. Linear Models**\n",
    "---"
   ]
  },
  {
   "cell_type": "markdown",
   "metadata": {},
   "source": [
    "- **ElasticNet**  : L1 및 L2 정규화가 혼합된 선형 회귀 모델.\n",
    "\n",
    "- **Lasso**  : L1 정규화를 사용하는 선형 회귀 모델.\n",
    "\n",
    "- **LinearRegression**  : 최소자승법(Ordinary Least Squares)을 사용하는 선형 회귀 모델.\n",
    "\n",
    "- **LogisticRegression**  : 로지스틱 회귀 분류기.\n",
    "\n",
    "- **Ridge**  : L2 정규화를 사용하는 선형 회귀 모델."
   ]
  },
  {
   "cell_type": "markdown",
   "metadata": {},
   "source": [
    "---\n",
    "### **2. Support Vector Models**\n",
    "---"
   ]
  },
  {
   "cell_type": "markdown",
   "metadata": {},
   "source": [
    "- **SVC**  : 서포트 벡터 분류(Support Vector Classification) 모델.\n",
    "\n",
    "- **SVR**  : 서포트 벡터 회귀(Support Vector Regression) 모델."
   ]
  },
  {
   "cell_type": "markdown",
   "metadata": {},
   "source": [
    "---\n",
    "### **3. Tree Models**\n",
    "---"
   ]
  },
  {
   "cell_type": "markdown",
   "metadata": {},
   "source": [
    "- **DecisionTreeClassifier** : 의사결정 나무 분류 모델.\n",
    "\n",
    "- **DecisionTreeRegressor** : 의사결정 나무 회귀 모델.\n",
    "\n",
    "- **ForestClassifier**  : 랜덤 포레스트 분류 모델.\n",
    "\n",
    "- **ForestRegressor**  : 랜덤 포레스트 회귀 모델.\n",
    "\n",
    "- **GradientBoostingClassifier**  : 그래디언트 부스팅 분류 모델.\n",
    "\n",
    "- **GradientBoostingRegressor**  : 그래디언트 부스팅 회귀 모델."
   ]
  },
  {
   "cell_type": "markdown",
   "metadata": {},
   "source": [
    "---\n",
    "### **#. Case Study**\n",
    "---"
   ]
  },
  {
   "cell_type": "markdown",
   "metadata": {},
   "source": [
    "#### **STEP 1: 패키지 설치 및 데이터 로드**"
   ]
  },
  {
   "cell_type": "code",
   "execution_count": 1,
   "metadata": {},
   "outputs": [],
   "source": [
    "import os\n",
    "import pandas as pd\n",
    "import numpy as np"
   ]
  },
  {
   "cell_type": "code",
   "execution_count": 2,
   "metadata": {},
   "outputs": [],
   "source": [
    "churn_df = pd.read_csv( \"/workspaces/workspace/sas-viya-workbench-hands-on/04. Python 핸즈온 코드/churn.csv\")"
   ]
  },
  {
   "cell_type": "code",
   "execution_count": 3,
   "metadata": {},
   "outputs": [
    {
     "data": {
      "text/html": [
       "<div>\n",
       "<style scoped>\n",
       "    .dataframe tbody tr th:only-of-type {\n",
       "        vertical-align: middle;\n",
       "    }\n",
       "\n",
       "    .dataframe tbody tr th {\n",
       "        vertical-align: top;\n",
       "    }\n",
       "\n",
       "    .dataframe thead th {\n",
       "        text-align: right;\n",
       "    }\n",
       "</style>\n",
       "<table border=\"1\" class=\"dataframe\">\n",
       "  <thead>\n",
       "    <tr style=\"text-align: right;\">\n",
       "      <th></th>\n",
       "      <th>Call Failure</th>\n",
       "      <th>Complains</th>\n",
       "      <th>Subscription Length</th>\n",
       "      <th>Charge  Amount</th>\n",
       "      <th>Seconds of Use</th>\n",
       "      <th>Frequency of use</th>\n",
       "      <th>Frequency of SMS</th>\n",
       "      <th>Distinct Called Numbers</th>\n",
       "      <th>Age Group</th>\n",
       "      <th>Tariff Plan</th>\n",
       "      <th>Status</th>\n",
       "      <th>Age</th>\n",
       "      <th>Customer Value</th>\n",
       "      <th>Churn</th>\n",
       "    </tr>\n",
       "  </thead>\n",
       "  <tbody>\n",
       "    <tr>\n",
       "      <th>0</th>\n",
       "      <td>8</td>\n",
       "      <td>0</td>\n",
       "      <td>38</td>\n",
       "      <td>0</td>\n",
       "      <td>4370</td>\n",
       "      <td>71</td>\n",
       "      <td>5</td>\n",
       "      <td>17</td>\n",
       "      <td>3</td>\n",
       "      <td>1</td>\n",
       "      <td>1</td>\n",
       "      <td>30</td>\n",
       "      <td>197.640</td>\n",
       "      <td>0</td>\n",
       "    </tr>\n",
       "    <tr>\n",
       "      <th>1</th>\n",
       "      <td>0</td>\n",
       "      <td>0</td>\n",
       "      <td>39</td>\n",
       "      <td>0</td>\n",
       "      <td>318</td>\n",
       "      <td>5</td>\n",
       "      <td>7</td>\n",
       "      <td>4</td>\n",
       "      <td>2</td>\n",
       "      <td>1</td>\n",
       "      <td>2</td>\n",
       "      <td>25</td>\n",
       "      <td>46.035</td>\n",
       "      <td>0</td>\n",
       "    </tr>\n",
       "    <tr>\n",
       "      <th>2</th>\n",
       "      <td>10</td>\n",
       "      <td>0</td>\n",
       "      <td>37</td>\n",
       "      <td>0</td>\n",
       "      <td>2453</td>\n",
       "      <td>60</td>\n",
       "      <td>359</td>\n",
       "      <td>24</td>\n",
       "      <td>3</td>\n",
       "      <td>1</td>\n",
       "      <td>1</td>\n",
       "      <td>30</td>\n",
       "      <td>1536.520</td>\n",
       "      <td>0</td>\n",
       "    </tr>\n",
       "    <tr>\n",
       "      <th>3</th>\n",
       "      <td>10</td>\n",
       "      <td>0</td>\n",
       "      <td>38</td>\n",
       "      <td>0</td>\n",
       "      <td>4198</td>\n",
       "      <td>66</td>\n",
       "      <td>1</td>\n",
       "      <td>35</td>\n",
       "      <td>1</td>\n",
       "      <td>1</td>\n",
       "      <td>1</td>\n",
       "      <td>15</td>\n",
       "      <td>240.020</td>\n",
       "      <td>0</td>\n",
       "    </tr>\n",
       "    <tr>\n",
       "      <th>4</th>\n",
       "      <td>3</td>\n",
       "      <td>0</td>\n",
       "      <td>38</td>\n",
       "      <td>0</td>\n",
       "      <td>2393</td>\n",
       "      <td>58</td>\n",
       "      <td>2</td>\n",
       "      <td>33</td>\n",
       "      <td>1</td>\n",
       "      <td>1</td>\n",
       "      <td>1</td>\n",
       "      <td>15</td>\n",
       "      <td>145.805</td>\n",
       "      <td>0</td>\n",
       "    </tr>\n",
       "  </tbody>\n",
       "</table>\n",
       "</div>"
      ],
      "text/plain": [
       "   Call Failure  Complains  Subscription Length  Charge  Amount  \\\n",
       "0             8          0                   38               0   \n",
       "1             0          0                   39               0   \n",
       "2            10          0                   37               0   \n",
       "3            10          0                   38               0   \n",
       "4             3          0                   38               0   \n",
       "\n",
       "   Seconds of Use  Frequency of use  Frequency of SMS  \\\n",
       "0            4370                71                 5   \n",
       "1             318                 5                 7   \n",
       "2            2453                60               359   \n",
       "3            4198                66                 1   \n",
       "4            2393                58                 2   \n",
       "\n",
       "   Distinct Called Numbers  Age Group  Tariff Plan  Status  Age  \\\n",
       "0                       17          3            1       1   30   \n",
       "1                        4          2            1       2   25   \n",
       "2                       24          3            1       1   30   \n",
       "3                       35          1            1       1   15   \n",
       "4                       33          1            1       1   15   \n",
       "\n",
       "   Customer Value  Churn  \n",
       "0         197.640      0  \n",
       "1          46.035      0  \n",
       "2        1536.520      0  \n",
       "3         240.020      0  \n",
       "4         145.805      0  "
      ]
     },
     "execution_count": 3,
     "metadata": {},
     "output_type": "execute_result"
    }
   ],
   "source": [
    "churn_df.head(5)"
   ]
  },
  {
   "cell_type": "markdown",
   "metadata": {},
   "source": [
    "#### **STEP 2: 데이터 전처리 (입력&타겟 분리)**"
   ]
  },
  {
   "cell_type": "code",
   "execution_count": 4,
   "metadata": {},
   "outputs": [],
   "source": [
    "X_df = churn_df.drop('Churn', axis=1)\n",
    "y = churn_df['Churn']"
   ]
  },
  {
   "cell_type": "markdown",
   "metadata": {},
   "source": [
    "#### **STEP 3: 데이터 분할**\n",
    "\n",
    "데이터셋을 무작위로 **훈련 세트**와 **테스트 세트**로 나눕니다.\n",
    "\n",
    "- **훈련 세트**: 모델을 학습시키는 데 사용  \n",
    "- **테스트 세트**: 모델의 성능을 평가하는 데 사용  \n",
    "- **모델 학습 과정에서는 테스트 세트를 사용하지 않아야 합니다.**\n",
    "\n",
    "데이터셋을 `train_test_split()`을 사용하여 훈련 세트와 테스트 세트로 나눕니다.  \n",
    "- **주요 파라미터**\n",
    "  - `test_size`: 테스트 세트의 크기를 결정  \n",
    "  - `random_state`: 의사 난수 생성기의 상태를 설정  \n",
    "  - `stratify`: 타겟 변수의 분포를 훈련 세트와 테스트 세트에서 동일하게 유지  \n",
    "  \n",
    "- **결과**\n",
    "  - `X_train`: 모델 학습에 사용되는 `x`의 일부  \n",
    "  - `X_test`: 모델 평가에 사용되는 `x`의 일부  \n",
    "  - `y_train`: 모델 학습에 사용되며 `X_train`에 해당하는 `y`의 일부  \n",
    "  - `y_test`: 모델 평가에 사용되며 `X_test`에 해당하는 `y`의 일부  \n",
    "\n",
    "<small> `train_test_split()` 클래스 사용에 대한 자세한 내용은 [문서](https://scikit-learn.org/stable/modules/generated/sklearn.model_selection.train_test_split.html)를 참고하세요.</small>"
   ]
  },
  {
   "cell_type": "code",
   "execution_count": 5,
   "metadata": {},
   "outputs": [],
   "source": [
    "from sklearn.model_selection import train_test_split\n",
    "X_train, X_test, y_train, y_test = train_test_split(X_df, y, stratify=y, test_size = 0.2, random_state = 10)"
   ]
  },
  {
   "cell_type": "markdown",
   "metadata": {},
   "source": [
    "#### **STEP 4: 모형 학습**  \n",
    "##### **1. 로지스틱 회귀 모형**\n",
    "(1) 모형 학습"
   ]
  },
  {
   "cell_type": "code",
   "execution_count": 6,
   "metadata": {},
   "outputs": [
    {
     "data": {
      "text/plain": [
       "LogisticRegression(tol=0.0001, solver=\"lbfgs\", max_iter=1000)"
      ]
     },
     "execution_count": 6,
     "metadata": {},
     "output_type": "execute_result"
    }
   ],
   "source": [
    "#fit a simple logistic regression model\n",
    "from sasviya.ml.linear_model import LogisticRegression\n",
    "\n",
    "logreg = LogisticRegression(solver   = 'lbfgs',\n",
    "                            tol      = 1e-4,\n",
    "                            max_iter = 1000)\n",
    "\n",
    "logreg.fit(X_train, y_train)"
   ]
  },
  {
   "cell_type": "markdown",
   "metadata": {},
   "source": [
    "(2) 주요 Hyper Parameters\n",
    "\n",
    "- **tol**: `float`  \n",
    "상대적인 기울기 수렴 기준을 지정합니다.\n",
    "\n",
    "- **fit_intercept**: `bool`  \n",
    "모델에 편향 항을 포함할지 여부를 지정합니다.\n",
    "\n",
    "- **max_iter**: `float`  \n",
    "훈련 반복의 최대 횟수를 지정합니다.\n",
    "\n",
    "- **max_time**: `float`  \n",
    "최대 훈련 시간을 초 단위로 지정합니다.\n",
    "\n",
    "- **solver**: `str`  \n",
    "사용할 최적화 알고리즘을 지정합니다. 유효한 옵션은 다음과 같습니다:\n",
    "  - “congra”: 공액 기울기 방법\n",
    "  - “dbldog”: 더블-도그레그 방법\n",
    "  - “lbfgs”: 제한된 메모리 BFGS 해결기\n",
    "  - “newrap”: 라인 탐색 및 리지법을 사용한 뉴턴-랩슨 방법\n",
    "  - “nmsimp”: 넬더-미드 심플렉스 방법\n",
    "  - “nrridg”: 리지법을 사용한 뉴턴-랩슨 방법\n",
    "  - “quanew | duquanew”: 이중 준-뉴턴 최적화\n",
    "\n",
    "- **selection**: `str`  \n",
    "사용할 변수 선택 방법을 지정합니다. 유효한 옵션은 다음과 같습니다:\n",
    "  - “backward”: 후진 선택법\n",
    "  - “forward”: 전진 선택법\n",
    "  - “lasso”: Lasso 방법\n",
    "  - “stepwise”: 단계적 선택법\n",
    "\n",
    "- **verbose**: `int`  \n",
    "피팅된 모델에 대해 출력할 정보의 양을 지정합니다. 유효한 옵션은 다음과 같습니다:\n",
    "  - 0: 출력 없음\n",
    "  - 1: 반복 이력\n",
    "  - 2: 반복 이력 및 피팅 통계\n",
    "\n",
    "<small> `LogisticRegression()` 클래스 사용에 대한 자세한 내용은 [문서](https://go.documentation.sas.com/doc/en/workbenchcdc/v_001/vwbpymlpg/sasviya-ml-linear_model-logisticregression.htm)를 참고하세요.</small> "
   ]
  },
  {
   "cell_type": "markdown",
   "metadata": {},
   "source": [
    "##### **2. 서포트 백터 머신 모형**\n",
    "(1) 모형 학습"
   ]
  },
  {
   "cell_type": "code",
   "execution_count": 7,
   "metadata": {},
   "outputs": [
    {
     "data": {
      "text/plain": [
       "SVC(kernel=\"rbf\")"
      ]
     },
     "execution_count": 7,
     "metadata": {},
     "output_type": "execute_result"
    }
   ],
   "source": [
    "#fit a support vector machine classifier\n",
    "from sasviya.ml.svm import SVC\n",
    "\n",
    "svm = SVC(C=1.0,\n",
    "          kernel=\"rbf\")\n",
    "\n",
    "svm.fit(X_train, y_train)"
   ]
  },
  {
   "cell_type": "markdown",
   "metadata": {},
   "source": [
    "(2) 주요 Hyper Parameters\n",
    "\n",
    "- **max_iter**: `int`  \n",
    "훈련 반복의 최대 횟수를 지정합니다.\n",
    "\n",
    "- **C**: `float`  \n",
    "비용 정규화 파라미터를 지정합니다.\n",
    "\n",
    "- **kernel**: `{“linear”, “poly”, “polynomial”, “rbf”, “sigmoid”}`  \n",
    "사용할 커널의 유형을 지정합니다.\n",
    "\n",
    "- **degree**: `int`  \n",
    "다항식 커널의 차수를 지정합니다. 커널이 “polynomial”이 아닌 경우는 무시됩니다.\n",
    "\n",
    "- **sigma**: `“auto”`, `“scale”` 또는 `float`  \n",
    "RBF 및 Sigmoid 커널의 커널 파라미터를 지정합니다.\n",
    "\n",
    "- **coef0**: `float`  \n",
    "Sigmoid 커널의 두 번째 파라미터를 지정합니다.\n",
    "\n",
    "- **method**: `{“activeset”, “cd”, “ipoint”}` 또는 `None`  \n",
    "모델을 피팅할 때 사용하는 최적화 방법을 지정합니다.\n",
    "  - **Active-Set**: 모든 커널에서 사용 가능하며, RBF 및 Sigmoid 커널과 3차 이상의 다항식 커널의 기본값입니다.\n",
    "  - **Interior Point**: 선형 커널 및 다항식 커널에서 사용 가능하며, 선형 커널과 3차 이하의 다항식 커널의 기본값입니다.\n",
    "  - **Coordinate Descent**: 선형 커널에서만 사용 가능합니다.\n",
    "\n",
    "- **tol**: `float`  \n",
    "조기 중지를 위한 허용 오차 임계값을 지정합니다.\n",
    "\n",
    "- **random_state**: `int`  \n",
    "난수 생성에 사용할 시드를 지정합니다.\n",
    "\n",
    "- **scale**: `bool`  \n",
    "True로 설정하면 훈련 전에 숫자 변수를 스케일링합니다.\n",
    "\n",
    "- **verbose**: `int`  \n",
    "피팅된 모델에 대해 출력할 정보의 양을 지정합니다.\n",
    "\n",
    "<small> `SVC()` 클래스 사용에 대한 자세한 내용은 [문서](https://go.documentation.sas.com/doc/en/workbenchcdc/v_001/vwbpymlpg/sasviya-ml-svm-svc.htm)를 참고하세요.</small> "
   ]
  },
  {
   "cell_type": "markdown",
   "metadata": {},
   "source": [
    "##### **3. 의사결정 트리 모형**\n",
    "(1) 모형 학습"
   ]
  },
  {
   "cell_type": "code",
   "execution_count": 8,
   "metadata": {},
   "outputs": [
    {
     "data": {
      "text/plain": [
       "DecisionTreeClassifier(criterion=\"chisquare\")"
      ]
     },
     "execution_count": 8,
     "metadata": {},
     "output_type": "execute_result"
    }
   ],
   "source": [
    "#fit a decision tree model\n",
    "from sasviya.ml.tree import DecisionTreeClassifier\n",
    "\n",
    "dtree = DecisionTreeClassifier(criterion = \"chisquare\",\n",
    "                               max_depth = 10,\n",
    "                               ccp_alpha = 0)\n",
    "\n",
    "dtree.fit(X_train, y_train)"
   ]
  },
  {
   "cell_type": "markdown",
   "metadata": {},
   "source": [
    "(2) 주요 Hyper Parameters\n",
    "\n",
    "- **criterion**: `{“chaid”, “chisquare”, “entropy|gain”, “igr|gainratio”, “gini”}`  \n",
    "  각 트리 노드의 분할 기준을 지정합니다.\n",
    "\n",
    "- **max_depth**: `int`  \n",
    "  트리의 최대 깊이를 지정합니다.\n",
    "\n",
    "- **min_samples_leaf**: `int`  \n",
    "  각 노드에 최소한으로 있어야 하는 샘플의 수를 지정합니다.\n",
    "\n",
    "- **ccp_alpha**: `float`  \n",
    "  회귀 트리의 최소 비용 복잡성 가지치기에 사용할 값을 지정합니다.\n",
    "\n",
    "- **verbose**: `int`  \n",
    "  피팅된 모델에 대해 출력할 정보의 양을 지정합니다.\n",
    "\n",
    "<small> `DecisionTreeClassifier()` 클래스 사용에 대한 자세한 내용은 [문서](https://go.documentation.sas.com/doc/en/workbenchcdc/v_001/vwbpymlpg/sasviya-ml-tree-decisiontreeclassifier.htm)를 참고하세요.</small> "
   ]
  },
  {
   "cell_type": "markdown",
   "metadata": {},
   "source": [
    "##### **4. 랜덤 포레스트 모형**\n",
    "(1) 모형 학습"
   ]
  },
  {
   "cell_type": "code",
   "execution_count": 9,
   "metadata": {},
   "outputs": [
    {
     "data": {
      "text/plain": [
       "ForestClassifier(criterion=\"chisquare\", max_depth=7, random_state=919)"
      ]
     },
     "execution_count": 9,
     "metadata": {},
     "output_type": "execute_result"
    }
   ],
   "source": [
    "#fit a random forest model\n",
    "from sasviya.ml.tree import ForestClassifier\n",
    "\n",
    "forest = ForestClassifier(criterion        = \"chisquare\",\n",
    "                          n_estimators     = 100,\n",
    "                          max_depth        = 7,\n",
    "                          min_samples_leaf = 5,\n",
    "                          bootstrap        = 0.6,\n",
    "                          random_state     = 919)\n",
    "\n",
    "forest.fit(X_train, y_train)"
   ]
  },
  {
   "cell_type": "markdown",
   "metadata": {},
   "source": [
    "(2) 주요 Hyper Parameters\n",
    "\n",
    "- **n_estimators**: `int`  \n",
    "  생성할 트리의 수를 지정합니다.\n",
    "\n",
    "- **bootstrap**: `float`  \n",
    "  부트스트랩 샘플에 사용할 데이터의 비율을 지정합니다.\n",
    "\n",
    "- **criterion**: `{“chaid”, “chisquare”, “entropy|gain”, “igr|gainratio”, “gini”}`  \n",
    "  각 트리 노드에서 분할의 품질을 측정하는 기준을 지정합니다.\n",
    "\n",
    "- **max_depth**: `int`  \n",
    "  트리의 최대 깊이를 지정합니다.\n",
    "\n",
    "- **max_features**: `int`  \n",
    "  노드를 분할할 때 고려할 입력 변수의 수를 지정합니다(모델 출력에서 “M”으로 표시). 각 트리마다 입력 변수들 중에서 무작위로 선택된 변수들로 분할을 진행합니다. 기본값은 입력 변수 수의 제곱근입니다.\n",
    "\n",
    "- **min_samples_leaf**: `int`  \n",
    "  각 노드에 최소한으로 있어야 하는 샘플의 수를 지정합니다.\n",
    "\n",
    "- **n_bins**: `int`  \n",
    "  숫자형 변수에 대해 사용할 빈의 수를 지정합니다.\n",
    "\n",
    "- **oob_score**: `bool`  \n",
    "  모델 훈련 시 OOB(Out-of-Bag) 오류를 계산할지 여부를 지정합니다.\n",
    "\n",
    "- **random_state**: `int`  \n",
    "  난수 생성에 사용할 시드를 지정합니다.\n",
    "\n",
    "- **verbose**: `int`  \n",
    "  피팅된 모델에 대해 출력할 정보의 양을 지정합니다.\n",
    "\n",
    "\n",
    "<small> `ForestClassifier()` 클래스 사용에 대한 자세한 내용은 [문서](https://go.documentation.sas.com/doc/en/workbenchcdc/v_001/vwbpymlpg/sasviya-ml-tree-forestclassifier.htm)를 참고하세요.</small> "
   ]
  },
  {
   "cell_type": "markdown",
   "metadata": {},
   "source": [
    "##### **5. 그래디언트 부스팅 모형**\n",
    "(1) 모형 학습"
   ]
  },
  {
   "cell_type": "code",
   "execution_count": 10,
   "metadata": {},
   "outputs": [
    {
     "data": {
      "text/plain": [
       "GradientBoostingClassifier(subsample=0.8, random_state=919)"
      ]
     },
     "execution_count": 10,
     "metadata": {},
     "output_type": "execute_result"
    }
   ],
   "source": [
    "#fit a tree-based gradient boosting\n",
    "from sasviya.ml.tree import GradientBoostingClassifier\n",
    "\n",
    "gradboost = GradientBoostingClassifier(n_estimators     = 100,\n",
    "                                       max_depth        = 4,\n",
    "                                       min_samples_leaf = 5,\n",
    "                                       learning_rate    = 0.1,\n",
    "                                       subsample        = 0.8,\n",
    "                                       random_state     = 919)\n",
    "\n",
    "gradboost.fit(X_train, y_train)"
   ]
  },
  {
   "cell_type": "markdown",
   "metadata": {},
   "source": [
    "(2) 주요 Hyper Parameters\n",
    "\n",
    "- **n_bins**: `int`  \n",
    "  숫자형 변수에 대해 사용할 빈의 수를 지정합니다. 기본값은 50입니다.\n",
    "\n",
    "- **min_samples_leaf**: `int`  \n",
    "  각 노드에 최소한으로 있어야 하는 샘플의 수를 지정합니다. 기본값은 5입니다.\n",
    "\n",
    "- **n_estimators**: `int`  \n",
    "  생성할 트리의 수를 지정합니다. 기본값은 100입니다.\n",
    "\n",
    "- **max_depth**: `int`  \n",
    "  트리의 최대 깊이를 지정합니다. 기본값은 4입니다.\n",
    "\n",
    "- **max_features**: `float`  \n",
    "  노드를 분할할 때 고려할 입력 변수의 수를 지정합니다. 기본값은 입력 변수 수에 설정됩니다.\n",
    "\n",
    "- **learning_rate**: `float`  \n",
    "  각 트리의 학습률을 지정합니다. 기본값은 0.1입니다.\n",
    "\n",
    "- **subsample**: `float`  \n",
    "  각 트리를 구축하는 데 사용할 데이터의 비율을 지정합니다. 기본값은 0.5입니다.\n",
    "\n",
    "- **l1_penalty**: `float`  \n",
    "  예측에 대한 L1 정규화 값을 지정합니다. 기본값은 0입니다.\n",
    "\n",
    "- **l2_penalty**: `float`  \n",
    "  예측에 대한 L2 정규화 값을 지정합니다. 기본값은 1입니다.\n",
    "\n",
    "- **random_state**: `float`  \n",
    "  난수 생성기의 시드를 지정합니다. 기본값은 컴퓨터 시계를 기반으로 한 난수 스트림입니다. 재현 가능한 난수 시퀀스를 원할 경우 0보다 큰 값을 지정합니다.\n",
    "\n",
    "- **verbose**: `int`  \n",
    "  피팅된 모델에 대해 출력할 정보의 양을 지정합니다.\n",
    "\n",
    "- **calc_feature_importances**: `bool`  \n",
    "  특성 중요도를 계산할지 여부를 지정합니다.\n",
    "\n",
    "- **validation_fraction**: `float`  \n",
    "  훈련 샘플에서 검증에 사용할 비율을 지정합니다. 검증 비율이 0보다 크면 조기 중지 모드가 활성화됩니다.\n",
    "\n",
    "- **n_iter_no_change**: `int`  \n",
    "  조기 중지를 위한 최대 훈련 반복 횟수를 지정합니다. 검증 비율이 지정되지 않으면 무시됩니다.\n",
    "\n",
    "- **tol**: `float`  \n",
    "  이전 반복에 대한 상대적인 변화로 조기 중지를 위한 허용 오차 값을 지정합니다. 검증 비율이 지정되지 않으면 무시됩니다.\n",
    "\n",
    "<small> `GradientBoostingClassifier()` 클래스 사용에 대한 자세한 내용은 [문서](https://go.documentation.sas.com/doc/en/workbenchcdc/v_001/vwbpymlpg/sasviya-ml-tree-gradientboostingclassifier.htm)를 참고하세요.</small> "
   ]
  },
  {
   "cell_type": "markdown",
   "metadata": {},
   "source": [
    "#### **STEP 5: 모형 평가**  \n",
    "##### **1. 평가 지표 산출**"
   ]
  },
  {
   "cell_type": "code",
   "execution_count": 26,
   "metadata": {},
   "outputs": [],
   "source": [
    "# 필요한 라이브러리 가져오기\n",
    "import numpy as np\n",
    "import matplotlib.pyplot as plt\n",
    "from sklearn.metrics import accuracy_score, precision_score, recall_score, f1_score, roc_curve, roc_auc_score, auc\n",
    "from sklearn.preprocessing import label_binarize\n",
    "\n",
    "# 모델 리스트 및 이름 정의\n",
    "models = [\n",
    "    (\"Logistic Regression\", logreg),\n",
    "    (\"Support Vector Machine\", svm),\n",
    "    (\"Decision Tree\", dtree),\n",
    "    (\"Random Forest\", forest),\n",
    "    (\"Gradient Boosting\", gradboost)\n",
    "]\n",
    "\n",
    "# 결과 저장용 리스트\n",
    "metrics = []\n",
    "roc_curves = []\n",
    "\n",
    "# 이진 분류를 위한 타겟 변환 (필요 시)\n",
    "if len(np.unique(y_test)) > 2:\n",
    "    y_test_bin = label_binarize(y_test, classes=np.unique(y_test))[:, 0]\n",
    "else:\n",
    "    y_test_bin = y_test\n",
    "\n",
    "for name, model in models:\n",
    "    y_pred = model.predict(X_test)  # 예측값\n",
    "\n",
    "    # predict_proba 결과 확인 및 처리\n",
    "    if hasattr(model, \"predict_proba\"):\n",
    "        proba = model.predict_proba(X_test)\n",
    "        \n",
    "        # Pandas DataFrame으로 반환된 경우 처리\n",
    "        if isinstance(proba, pd.DataFrame):\n",
    "            proba = proba.values  # NumPy 배열로 변환\n",
    "        \n",
    "        if proba.ndim == 2 and proba.shape[1] > 1:\n",
    "            y_pred_proba = proba[:, 1]  # 두 번째 클래스의 확률\n",
    "        else:\n",
    "            y_pred_proba = proba.ravel()  # 단일 클래스 확률\n",
    "    else:\n",
    "        y_pred_proba = None\n",
    "\n",
    "    # 평가지표 계산\n",
    "    accuracy = accuracy_score(y_test, y_pred)\n",
    "    precision = precision_score(y_test, y_pred, average=\"binary\")\n",
    "    recall = recall_score(y_test, y_pred, average=\"binary\")\n",
    "    f1 = f1_score(y_test, y_pred, average=\"binary\")\n",
    "    \n",
    "    # ROC-AUC 계산\n",
    "    if y_pred_proba is not None:\n",
    "        fpr, tpr, _ = roc_curve(y_test_bin, y_pred_proba)\n",
    "        auc_score = auc(fpr, tpr)\n",
    "        roc_curves.append((name, fpr, tpr, auc_score))\n",
    "    else:\n",
    "        roc_curves.append((name, None, None, None))\n",
    "\n",
    "    # 결과 저장\n",
    "    metrics.append({\n",
    "        \"Model\": name,\n",
    "        \"Accuracy\": round(accuracy, 3),\n",
    "        \"Precision\": round(precision, 3),\n",
    "        \"Recall\": round(recall, 3),\n",
    "        \"F1 Score\": round(f1, 3),\n",
    "        \"AUC\": round(auc_score, 3) if y_pred_proba is not None else None\n",
    "    })"
   ]
  },
  {
   "cell_type": "markdown",
   "metadata": {},
   "source": [
    "##### **2. 평가 지표 결과**"
   ]
  },
  {
   "cell_type": "code",
   "execution_count": 27,
   "metadata": {},
   "outputs": [
    {
     "data": {
      "text/html": [
       "<div>\n",
       "<style scoped>\n",
       "    .dataframe tbody tr th:only-of-type {\n",
       "        vertical-align: middle;\n",
       "    }\n",
       "\n",
       "    .dataframe tbody tr th {\n",
       "        vertical-align: top;\n",
       "    }\n",
       "\n",
       "    .dataframe thead th {\n",
       "        text-align: right;\n",
       "    }\n",
       "</style>\n",
       "<table border=\"1\" class=\"dataframe\">\n",
       "  <thead>\n",
       "    <tr style=\"text-align: right;\">\n",
       "      <th></th>\n",
       "      <th>Model</th>\n",
       "      <th>Accuracy</th>\n",
       "      <th>Precision</th>\n",
       "      <th>Recall</th>\n",
       "      <th>F1 Score</th>\n",
       "      <th>AUC</th>\n",
       "    </tr>\n",
       "  </thead>\n",
       "  <tbody>\n",
       "    <tr>\n",
       "      <th>0</th>\n",
       "      <td>Logistic Regression</td>\n",
       "      <td>0.897</td>\n",
       "      <td>0.827</td>\n",
       "      <td>0.434</td>\n",
       "      <td>0.570</td>\n",
       "      <td>0.954</td>\n",
       "    </tr>\n",
       "    <tr>\n",
       "      <th>1</th>\n",
       "      <td>Support Vector Machine</td>\n",
       "      <td>0.898</td>\n",
       "      <td>0.872</td>\n",
       "      <td>0.414</td>\n",
       "      <td>0.562</td>\n",
       "      <td>0.939</td>\n",
       "    </tr>\n",
       "    <tr>\n",
       "      <th>2</th>\n",
       "      <td>Decision Tree</td>\n",
       "      <td>0.927</td>\n",
       "      <td>0.785</td>\n",
       "      <td>0.737</td>\n",
       "      <td>0.760</td>\n",
       "      <td>0.963</td>\n",
       "    </tr>\n",
       "    <tr>\n",
       "      <th>3</th>\n",
       "      <td>Random Forest</td>\n",
       "      <td>0.941</td>\n",
       "      <td>0.860</td>\n",
       "      <td>0.747</td>\n",
       "      <td>0.800</td>\n",
       "      <td>0.980</td>\n",
       "    </tr>\n",
       "    <tr>\n",
       "      <th>4</th>\n",
       "      <td>Gradient Boosting</td>\n",
       "      <td>0.952</td>\n",
       "      <td>0.856</td>\n",
       "      <td>0.838</td>\n",
       "      <td>0.847</td>\n",
       "      <td>0.988</td>\n",
       "    </tr>\n",
       "  </tbody>\n",
       "</table>\n",
       "</div>"
      ],
      "text/plain": [
       "                    Model  Accuracy  Precision  Recall  F1 Score    AUC\n",
       "0     Logistic Regression     0.897      0.827   0.434     0.570  0.954\n",
       "1  Support Vector Machine     0.898      0.872   0.414     0.562  0.939\n",
       "2           Decision Tree     0.927      0.785   0.737     0.760  0.963\n",
       "3           Random Forest     0.941      0.860   0.747     0.800  0.980\n",
       "4       Gradient Boosting     0.952      0.856   0.838     0.847  0.988"
      ]
     },
     "execution_count": 27,
     "metadata": {},
     "output_type": "execute_result"
    }
   ],
   "source": [
    "metrics_df = pd.DataFrame(metrics)\n",
    "metrics_df"
   ]
  },
  {
   "cell_type": "markdown",
   "metadata": {},
   "source": [
    "##### **3. ROC-Curve**"
   ]
  },
  {
   "cell_type": "code",
   "execution_count": 28,
   "metadata": {},
   "outputs": [
    {
     "data": {
      "image/png": "[encoded data removed]",
      "text/plain": [
       "<Figure size 1000x800 with 1 Axes>"
      ]
     },
     "metadata": {},
     "output_type": "display_data"
    }
   ],
   "source": [
    "plt.figure(figsize=(10, 8))\n",
    "for name, fpr, tpr, auc_score in roc_curves:\n",
    "    if fpr is not None and tpr is not None:\n",
    "        plt.plot(fpr, tpr, label=f\"{name} (AUC = {auc_score:.2f})\")\n",
    "\n",
    "plt.plot([0, 1], [0, 1], 'k--', label=\"Random Guessing\")\n",
    "plt.xlabel(\"False Positive Rate\")\n",
    "plt.ylabel(\"True Positive Rate\")\n",
    "plt.title(\"ROC Curves\")\n",
    "plt.legend()\n",
    "plt.grid()\n",
    "plt.show()"
   ]
  },
  {
   "cell_type": "code",
   "execution_count": null,
   "metadata": {},
   "outputs": [],
   "source": []
  }
 ],
 "metadata": {
  "kernelspec": {
   "display_name": "Python 3",
   "language": "python",
   "name": "python3"
  },
  "language_info": {
   "codemirror_mode": {
    "name": "ipython",
    "version": 3
   },
   "file_extension": ".py",
   "mimetype": "text/x-python",
   "name": "python",
   "nbconvert_exporter": "python",
   "pygments_lexer": "ipython3",
   "version": "3.11.10"
  }
 },
 "nbformat": 4,
 "nbformat_minor": 2
}
